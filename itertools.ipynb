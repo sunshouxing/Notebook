{
 "cells": [
  {
   "cell_type": "code",
   "execution_count": null,
   "metadata": {
    "collapsed": true
   },
   "outputs": [],
   "source": [
    "from itertools import *"
   ]
  },
  {
   "cell_type": "code",
   "execution_count": null,
   "metadata": {
    "collapsed": false,
    "scrolled": true
   },
   "outputs": [],
   "source": [
    "# chain example\n",
    "\n",
    "for i in chain([1, 2, 3,], ['a', 'b', 'c',]):\n",
    "    print i"
   ]
  },
  {
   "cell_type": "code",
   "execution_count": null,
   "metadata": {
    "collapsed": false,
    "scrolled": true
   },
   "outputs": [],
   "source": [
    "# izip example\n",
    "\n",
    "for i in izip([1, 2, 3,], ['a', 'b', 'c',]):\n",
    "    print i"
   ]
  },
  {
   "cell_type": "code",
   "execution_count": null,
   "metadata": {
    "collapsed": false
   },
   "outputs": [],
   "source": [
    "# islice example\n",
    "\n",
    "for i in islice(count(), 10):\n",
    "    print i\n",
    "   \n",
    "print \"=============================\"\n",
    "    \n",
    "for i in islice(count(), 5, 10):\n",
    "    print i\n",
    "    \n",
    "print \"=============================\"\n",
    "\n",
    "for i in islice(count(), 5, 10, 2):\n",
    "    print i"
   ]
  },
  {
   "cell_type": "code",
   "execution_count": null,
   "metadata": {
    "collapsed": false
   },
   "outputs": [],
   "source": [
    "# tee example\n",
    "\n",
    "origin = islice(count(), 1, 10)\n",
    "\n",
    "d1, d2 = tee(origin)\n",
    "\n",
    "for i in origin:\n",
    "    if i == 5:\n",
    "        break\n",
    "    print i\n",
    "    \n",
    "for i in d1:\n",
    "    print i"
   ]
  },
  {
   "cell_type": "code",
   "execution_count": null,
   "metadata": {
    "collapsed": false
   },
   "outputs": [],
   "source": [
    "# imap example\n",
    "\n",
    "for i in imap(lambda x: 2*x, xrange(10)):\n",
    "    print i\n",
    "    \n",
    "for i in imap(lambda x, y: (x, y, x*y), xrange(5), xrange(5, 10)):\n",
    "    print i"
   ]
  },
  {
   "cell_type": "code",
   "execution_count": null,
   "metadata": {
    "collapsed": false
   },
   "outputs": [],
   "source": [
    "# startmap example\n",
    "\n",
    "# while the mapping function to imap() is called f(i1, i2), the mapping function passed to starmap() is called f(*i).\n",
    "for i in starmap(lambda x, y: (x, y, x*y), [(1, 2), (3, 4), (5,6)]):\n",
    "    print i"
   ]
  },
  {
   "cell_type": "code",
   "execution_count": null,
   "metadata": {
    "collapsed": false,
    "scrolled": true
   },
   "outputs": [],
   "source": [
    "# cycle example\n",
    "\n",
    "for i in izip(xrange(10), cycle(['a', 'b', 'c'])):\n",
    "    print i"
   ]
  },
  {
   "cell_type": "code",
   "execution_count": null,
   "metadata": {
    "collapsed": false
   },
   "outputs": [],
   "source": [
    "for i in repeat('hello', 5):\n",
    "    print i\n",
    "    \n",
    "for i in izip(count(1), repeat('hello', 5)):\n",
    "    print i"
   ]
  }
 ],
 "metadata": {
  "kernelspec": {
   "display_name": "Python 2",
   "language": "python",
   "name": "python2"
  },
  "language_info": {
   "codemirror_mode": {
    "name": "ipython",
    "version": 2
   },
   "file_extension": ".py",
   "mimetype": "text/x-python",
   "name": "python",
   "nbconvert_exporter": "python",
   "pygments_lexer": "ipython2",
   "version": "2.7.12"
  }
 },
 "nbformat": 4,
 "nbformat_minor": 0
}
