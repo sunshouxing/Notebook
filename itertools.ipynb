{
 "cells": [
  {
   "cell_type": "code",
   "execution_count": 2,
   "metadata": {
    "collapsed": true
   },
   "outputs": [],
   "source": [
    "from itertools import *"
   ]
  },
  {
   "cell_type": "code",
   "execution_count": 3,
   "metadata": {
    "collapsed": false,
    "scrolled": true
   },
   "outputs": [
    {
     "name": "stdout",
     "output_type": "stream",
     "text": [
      "1\n",
      "2\n",
      "3\n",
      "a\n",
      "b\n",
      "c\n"
     ]
    }
   ],
   "source": [
    "# chain example\n",
    "\n",
    "for i in chain([1, 2, 3,], ['a', 'b', 'c',]):\n",
    "    print i"
   ]
  },
  {
   "cell_type": "code",
   "execution_count": 4,
   "metadata": {
    "collapsed": false,
    "scrolled": true
   },
   "outputs": [
    {
     "name": "stdout",
     "output_type": "stream",
     "text": [
      "(1, 'a')\n",
      "(2, 'b')\n",
      "(3, 'c')\n"
     ]
    }
   ],
   "source": [
    "# izip example\n",
    "\n",
    "for i in izip([1, 2, 3,], ['a', 'b', 'c',]):\n",
    "    print i"
   ]
  },
  {
   "cell_type": "code",
   "execution_count": 5,
   "metadata": {
    "collapsed": false
   },
   "outputs": [
    {
     "name": "stdout",
     "output_type": "stream",
     "text": [
      "0\n",
      "1\n",
      "2\n",
      "3\n",
      "4\n",
      "5\n",
      "6\n",
      "7\n",
      "8\n",
      "9\n",
      "=============================\n",
      "5\n",
      "6\n",
      "7\n",
      "8\n",
      "9\n",
      "=============================\n",
      "5\n",
      "7\n",
      "9\n"
     ]
    }
   ],
   "source": [
    "# islice example\n",
    "\n",
    "for i in islice(count(), 10):\n",
    "    print i\n",
    "   \n",
    "print \"=============================\"\n",
    "    \n",
    "for i in islice(count(), 5, 10):\n",
    "    print i\n",
    "    \n",
    "print \"=============================\"\n",
    "\n",
    "for i in islice(count(), 5, 10, 2):\n",
    "    print i"
   ]
  },
  {
   "cell_type": "code",
   "execution_count": 8,
   "metadata": {
    "collapsed": false
   },
   "outputs": [
    {
     "name": "stdout",
     "output_type": "stream",
     "text": [
      "1\n",
      "2\n",
      "3\n",
      "4\n",
      "===============================\n",
      "6\n",
      "7\n",
      "8\n",
      "9\n",
      "===============================\n",
      "6\n",
      "7\n",
      "8\n",
      "9\n"
     ]
    }
   ],
   "source": [
    "# tee example\n",
    "\n",
    "origin = islice(count(), 1, 10)\n",
    "\n",
    "d1, d2 = tee(origin)\n",
    "\n",
    "for i in origin:\n",
    "    if i == 5:\n",
    "        break\n",
    "    print i\n",
    "    \n",
    "print '==============================='\n",
    "\n",
    "for i in d1:\n",
    "    print i\n",
    "    \n",
    "print '==============================='\n",
    "\n",
    "for i in d2:\n",
    "    print i"
   ]
  },
  {
   "cell_type": "code",
   "execution_count": 9,
   "metadata": {
    "collapsed": false
   },
   "outputs": [
    {
     "name": "stdout",
     "output_type": "stream",
     "text": [
      "0\n",
      "2\n",
      "4\n",
      "6\n",
      "8\n",
      "10\n",
      "12\n",
      "14\n",
      "16\n",
      "18\n",
      "(0, 5, 0)\n",
      "(1, 6, 6)\n",
      "(2, 7, 14)\n",
      "(3, 8, 24)\n",
      "(4, 9, 36)\n"
     ]
    }
   ],
   "source": [
    "# imap example\n",
    "\n",
    "for i in imap(lambda x: 2*x, xrange(10)):\n",
    "    print i\n",
    "    \n",
    "for i in imap(lambda x, y: (x, y, x*y), xrange(5), xrange(5, 10)):\n",
    "    print i"
   ]
  },
  {
   "cell_type": "code",
   "execution_count": null,
   "metadata": {
    "collapsed": false
   },
   "outputs": [],
   "source": [
    "# startmap example\n",
    "\n",
    "# while the mapping function to imap() is called f(i1, i2), the mapping function passed to starmap() is called f(*i).\n",
    "for i in starmap(lambda x, y: (x, y, x*y), [(1, 2), (3, 4), (5,6)]):\n",
    "    print i"
   ]
  },
  {
   "cell_type": "code",
   "execution_count": null,
   "metadata": {
    "collapsed": false,
    "scrolled": true
   },
   "outputs": [],
   "source": [
    "# cycle example\n",
    "\n",
    "for i in izip(xrange(10), cycle(['a', 'b', 'c'])):\n",
    "    print i"
   ]
  },
  {
   "cell_type": "code",
   "execution_count": null,
   "metadata": {
    "collapsed": false
   },
   "outputs": [],
   "source": [
    "for i in repeat('hello', 5):\n",
    "    print i\n",
    "    \n",
    "for i in izip(count(1), repeat('hello', 5)):\n",
    "    print i"
   ]
  }
 ],
 "metadata": {
  "kernelspec": {
   "display_name": "Python 2",
   "language": "python",
   "name": "python2"
  },
  "language_info": {
   "codemirror_mode": {
    "name": "ipython",
    "version": 2
   },
   "file_extension": ".py",
   "mimetype": "text/x-python",
   "name": "python",
   "nbconvert_exporter": "python",
   "pygments_lexer": "ipython2",
   "version": "2.7.12"
  }
 },
 "nbformat": 4,
 "nbformat_minor": 0
}
