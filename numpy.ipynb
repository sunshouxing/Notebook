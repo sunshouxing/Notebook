{
 "cells": [
  {
   "cell_type": "code",
   "execution_count": 18,
   "metadata": {
    "collapsed": false
   },
   "outputs": [],
   "source": [
    "a = np.array([[1, 2, 3, 4], [5, 6, 7, 8]])"
   ]
  },
  {
   "cell_type": "code",
   "execution_count": 19,
   "metadata": {
    "collapsed": false
   },
   "outputs": [
    {
     "data": {
      "text/plain": [
       "array([[1, 2, 3, 4],\n",
       "       [5, 6, 7, 8]])"
      ]
     },
     "execution_count": 19,
     "metadata": {},
     "output_type": "execute_result"
    }
   ],
   "source": [
    "a"
   ]
  },
  {
   "cell_type": "code",
   "execution_count": 20,
   "metadata": {
    "collapsed": false
   },
   "outputs": [
    {
     "data": {
      "text/plain": [
       "(2, 4)"
      ]
     },
     "execution_count": 20,
     "metadata": {},
     "output_type": "execute_result"
    }
   ],
   "source": [
    "a.shape"
   ]
  },
  {
   "cell_type": "code",
   "execution_count": 21,
   "metadata": {
    "collapsed": false
   },
   "outputs": [
    {
     "data": {
      "text/plain": [
       "array([[1, 2],\n",
       "       [3, 4],\n",
       "       [5, 6],\n",
       "       [7, 8]])"
      ]
     },
     "execution_count": 21,
     "metadata": {},
     "output_type": "execute_result"
    }
   ],
   "source": [
    "a.shape = (4, 2)\n",
    "a"
   ]
  },
  {
   "cell_type": "code",
   "execution_count": 22,
   "metadata": {
    "collapsed": false
   },
   "outputs": [
    {
     "data": {
      "text/plain": [
       "array([[1, 2, 3, 4],\n",
       "       [5, 6, 7, 8]])"
      ]
     },
     "execution_count": 22,
     "metadata": {},
     "output_type": "execute_result"
    }
   ],
   "source": [
    "a.shape = (2, -1)\n",
    "a"
   ]
  },
  {
   "cell_type": "code",
   "execution_count": 23,
   "metadata": {
    "collapsed": false
   },
   "outputs": [
    {
     "data": {
      "text/plain": [
       "array([[1, 2],\n",
       "       [3, 4],\n",
       "       [5, 6],\n",
       "       [7, 8]])"
      ]
     },
     "execution_count": 23,
     "metadata": {},
     "output_type": "execute_result"
    }
   ],
   "source": [
    "b = a.reshape(4, -1)\n",
    "b"
   ]
  },
  {
   "cell_type": "code",
   "execution_count": 25,
   "metadata": {
    "collapsed": false
   },
   "outputs": [],
   "source": [
    "a[0][0] = 10"
   ]
  },
  {
   "cell_type": "code",
   "execution_count": 26,
   "metadata": {
    "collapsed": false
   },
   "outputs": [
    {
     "data": {
      "text/plain": [
       "array([[10,  2,  3,  4],\n",
       "       [ 5,  6,  7,  8]])"
      ]
     },
     "execution_count": 26,
     "metadata": {},
     "output_type": "execute_result"
    }
   ],
   "source": [
    "a"
   ]
  },
  {
   "cell_type": "code",
   "execution_count": 27,
   "metadata": {
    "collapsed": false
   },
   "outputs": [
    {
     "data": {
      "text/plain": [
       "array([[10,  2],\n",
       "       [ 3,  4],\n",
       "       [ 5,  6],\n",
       "       [ 7,  8]])"
      ]
     },
     "execution_count": 27,
     "metadata": {},
     "output_type": "execute_result"
    }
   ],
   "source": [
    "b"
   ]
  },
  {
   "cell_type": "code",
   "execution_count": 28,
   "metadata": {
    "collapsed": false
   },
   "outputs": [
    {
     "data": {
      "text/plain": [
       "dtype('int64')"
      ]
     },
     "execution_count": 28,
     "metadata": {},
     "output_type": "execute_result"
    }
   ],
   "source": [
    "a.dtype"
   ]
  },
  {
   "cell_type": "code",
   "execution_count": 29,
   "metadata": {
    "collapsed": false
   },
   "outputs": [
    {
     "data": {
      "text/plain": [
       "{0: numpy.bool_,\n",
       " 1: numpy.int8,\n",
       " 2: numpy.uint8,\n",
       " 3: numpy.int16,\n",
       " 4: numpy.uint16,\n",
       " 5: numpy.int32,\n",
       " 6: numpy.uint32,\n",
       " 7: numpy.int64,\n",
       " 8: numpy.uint64,\n",
       " 9: numpy.int64,\n",
       " 10: numpy.uint64,\n",
       " 11: numpy.float32,\n",
       " 12: numpy.float64,\n",
       " 13: numpy.float128,\n",
       " 14: numpy.complex64,\n",
       " 15: numpy.complex128,\n",
       " 16: numpy.complex256,\n",
       " 17: numpy.object_,\n",
       " 18: numpy.string_,\n",
       " 19: numpy.unicode_,\n",
       " 20: numpy.void,\n",
       " 21: numpy.datetime64,\n",
       " 22: numpy.timedelta64,\n",
       " 23: numpy.float16,\n",
       " '?': numpy.bool_,\n",
       " 'B': numpy.uint8,\n",
       " 'Bool': numpy.bool_,\n",
       " 'Complex128': numpy.complex256,\n",
       " 'Complex32': numpy.complex64,\n",
       " 'Complex64': numpy.complex128,\n",
       " 'D': numpy.complex128,\n",
       " 'Datetime64': numpy.datetime64,\n",
       " 'F': numpy.complex64,\n",
       " 'Float128': numpy.float128,\n",
       " 'Float16': numpy.float16,\n",
       " 'Float32': numpy.float32,\n",
       " 'Float64': numpy.float64,\n",
       " 'G': numpy.complex256,\n",
       " 'H': numpy.uint16,\n",
       " 'I': numpy.uint32,\n",
       " 'Int16': numpy.int16,\n",
       " 'Int32': numpy.int32,\n",
       " 'Int64': numpy.int64,\n",
       " 'Int8': numpy.int8,\n",
       " 'L': numpy.uint64,\n",
       " 'M': numpy.datetime64,\n",
       " 'M8': numpy.datetime64,\n",
       " 'O': numpy.object_,\n",
       " 'O8': numpy.object_,\n",
       " 'Object0': numpy.object_,\n",
       " 'P': numpy.uint64,\n",
       " 'Q': numpy.uint64,\n",
       " 'S': numpy.string_,\n",
       " 'String0': numpy.string_,\n",
       " 'Timedelta64': numpy.timedelta64,\n",
       " 'U': numpy.unicode_,\n",
       " 'UInt16': numpy.uint16,\n",
       " 'UInt32': numpy.uint32,\n",
       " 'UInt64': numpy.uint64,\n",
       " 'UInt8': numpy.uint8,\n",
       " 'Unicode0': numpy.unicode_,\n",
       " 'V': numpy.void,\n",
       " 'Void0': numpy.void,\n",
       " 'a': numpy.string_,\n",
       " 'b': numpy.int8,\n",
       " 'b1': numpy.bool_,\n",
       " 'bool': numpy.bool_,\n",
       " 'bool8': numpy.bool_,\n",
       " 'bool_': numpy.bool_,\n",
       " 'byte': numpy.int8,\n",
       " 'bytes_': numpy.string_,\n",
       " 'c16': numpy.complex128,\n",
       " 'c32': numpy.complex256,\n",
       " 'c8': numpy.complex64,\n",
       " 'cdouble': numpy.complex128,\n",
       " 'cfloat': numpy.complex128,\n",
       " 'clongdouble': numpy.complex256,\n",
       " 'clongfloat': numpy.complex256,\n",
       " 'complex': numpy.complex128,\n",
       " 'complex128': numpy.complex128,\n",
       " 'complex256': numpy.complex256,\n",
       " 'complex64': numpy.complex64,\n",
       " 'complex_': numpy.complex128,\n",
       " 'csingle': numpy.complex64,\n",
       " 'd': numpy.float64,\n",
       " 'datetime64': numpy.datetime64,\n",
       " 'double': numpy.float64,\n",
       " 'e': numpy.float16,\n",
       " 'f': numpy.float32,\n",
       " 'f16': numpy.float128,\n",
       " 'f2': numpy.float16,\n",
       " 'f4': numpy.float32,\n",
       " 'f8': numpy.float64,\n",
       " 'float': numpy.float64,\n",
       " 'float128': numpy.float128,\n",
       " 'float16': numpy.float16,\n",
       " 'float32': numpy.float32,\n",
       " 'float64': numpy.float64,\n",
       " 'float_': numpy.float64,\n",
       " 'g': numpy.float128,\n",
       " 'h': numpy.int16,\n",
       " 'half': numpy.float16,\n",
       " 'i': numpy.int32,\n",
       " 'i1': numpy.int8,\n",
       " 'i2': numpy.int16,\n",
       " 'i4': numpy.int32,\n",
       " 'i8': numpy.int64,\n",
       " 'int': numpy.int64,\n",
       " 'int0': numpy.int64,\n",
       " 'int16': numpy.int16,\n",
       " 'int32': numpy.int32,\n",
       " 'int64': numpy.int64,\n",
       " 'int8': numpy.int8,\n",
       " 'int_': numpy.int64,\n",
       " 'intc': numpy.int32,\n",
       " 'intp': numpy.int64,\n",
       " 'l': numpy.int64,\n",
       " 'longcomplex': numpy.complex256,\n",
       " 'longdouble': numpy.float128,\n",
       " 'longfloat': numpy.float128,\n",
       " 'longlong': numpy.int64,\n",
       " 'm': numpy.timedelta64,\n",
       " 'm8': numpy.timedelta64,\n",
       " 'object': numpy.object_,\n",
       " 'object0': numpy.object_,\n",
       " 'object_': numpy.object_,\n",
       " 'p': numpy.int64,\n",
       " 'q': numpy.int64,\n",
       " 'short': numpy.int16,\n",
       " 'single': numpy.float32,\n",
       " 'singlecomplex': numpy.complex64,\n",
       " 'str': numpy.string_,\n",
       " 'str_': numpy.string_,\n",
       " 'string': numpy.string_,\n",
       " 'string0': numpy.string_,\n",
       " 'string_': numpy.string_,\n",
       " 'timedelta64': numpy.timedelta64,\n",
       " 'u1': numpy.uint8,\n",
       " 'u2': numpy.uint16,\n",
       " 'u4': numpy.uint32,\n",
       " 'u8': numpy.uint64,\n",
       " 'ubyte': numpy.uint8,\n",
       " 'uint': numpy.uint64,\n",
       " 'uint0': numpy.uint64,\n",
       " 'uint16': numpy.uint16,\n",
       " 'uint32': numpy.uint32,\n",
       " 'uint64': numpy.uint64,\n",
       " 'uint8': numpy.uint8,\n",
       " 'uintc': numpy.uint32,\n",
       " 'uintp': numpy.uint64,\n",
       " 'ulonglong': numpy.uint64,\n",
       " 'unicode': numpy.unicode_,\n",
       " 'unicode0': numpy.unicode_,\n",
       " 'unicode_': numpy.unicode_,\n",
       " 'ushort': numpy.uint16,\n",
       " 'void': numpy.void,\n",
       " 'void0': numpy.void}"
      ]
     },
     "execution_count": 29,
     "metadata": {},
     "output_type": "execute_result"
    }
   ],
   "source": [
    "np.typeDict"
   ]
  },
  {
   "cell_type": "code",
   "execution_count": 30,
   "metadata": {
    "collapsed": false
   },
   "outputs": [
    {
     "data": {
      "text/plain": [
       "{numpy.object_,\n",
       " numpy.bool_,\n",
       " numpy.string_,\n",
       " numpy.unicode_,\n",
       " numpy.void,\n",
       " numpy.int8,\n",
       " numpy.int16,\n",
       " numpy.int32,\n",
       " numpy.int64,\n",
       " numpy.int64,\n",
       " numpy.uint8,\n",
       " numpy.uint16,\n",
       " numpy.uint32,\n",
       " numpy.uint64,\n",
       " numpy.uint64,\n",
       " numpy.float16,\n",
       " numpy.float32,\n",
       " numpy.float64,\n",
       " numpy.float128,\n",
       " numpy.datetime64,\n",
       " numpy.timedelta64,\n",
       " numpy.complex64,\n",
       " numpy.complex128,\n",
       " numpy.complex256}"
      ]
     },
     "execution_count": 30,
     "metadata": {},
     "output_type": "execute_result"
    }
   ],
   "source": [
    "set(np.typeDict.values())"
   ]
  },
  {
   "cell_type": "code",
   "execution_count": 31,
   "metadata": {
    "collapsed": false
   },
   "outputs": [
    {
     "data": {
      "text/plain": [
       "array([ 0. ,  0.1,  0.2,  0.3,  0.4,  0.5,  0.6,  0.7,  0.8,  0.9])"
      ]
     },
     "execution_count": 31,
     "metadata": {},
     "output_type": "execute_result"
    }
   ],
   "source": [
    "np.arange(0, 1, 0.1)"
   ]
  },
  {
   "cell_type": "code",
   "execution_count": 32,
   "metadata": {
    "collapsed": false
   },
   "outputs": [
    {
     "data": {
      "text/plain": [
       "array([ 0.        ,  0.11111111,  0.22222222,  0.33333333,  0.44444444,\n",
       "        0.55555556,  0.66666667,  0.77777778,  0.88888889,  1.        ])"
      ]
     },
     "execution_count": 32,
     "metadata": {},
     "output_type": "execute_result"
    }
   ],
   "source": [
    "np.linspace(0, 1, 10)"
   ]
  },
  {
   "cell_type": "code",
   "execution_count": 36,
   "metadata": {
    "collapsed": false
   },
   "outputs": [
    {
     "data": {
      "text/plain": [
       "array([ 0. ,  0.1,  0.2,  0.3,  0.4,  0.5,  0.6,  0.7,  0.8,  0.9])"
      ]
     },
     "execution_count": 36,
     "metadata": {},
     "output_type": "execute_result"
    }
   ],
   "source": [
    "np.linspace(0, 1, 10, endpoint=False)"
   ]
  },
  {
   "cell_type": "code",
   "execution_count": 40,
   "metadata": {
    "collapsed": false
   },
   "outputs": [
    {
     "data": {
      "text/plain": [
       "array([   1.        ,    1.66810054,    2.7825594 ,    4.64158883,\n",
       "          7.74263683,   12.91549665,   21.5443469 ,   35.93813664,\n",
       "         59.94842503,  100.        ])"
      ]
     },
     "execution_count": 40,
     "metadata": {},
     "output_type": "execute_result"
    }
   ],
   "source": [
    "np.logspace(0, 2, 10)"
   ]
  },
  {
   "cell_type": "code",
   "execution_count": 42,
   "metadata": {
    "collapsed": false
   },
   "outputs": [
    {
     "data": {
      "text/plain": [
       "array([ 1.,  2.,  4.,  8.])"
      ]
     },
     "execution_count": 42,
     "metadata": {},
     "output_type": "execute_result"
    }
   ],
   "source": [
    "np.logspace(0, 3, 4, base=2)"
   ]
  },
  {
   "cell_type": "code",
   "execution_count": 44,
   "metadata": {
    "collapsed": false
   },
   "outputs": [
    {
     "data": {
      "text/plain": [
       "array([[             0,       46703336, 47803063322992],\n",
       "       [46912674847416, 46912518563248, 46912518488232]])"
      ]
     },
     "execution_count": 44,
     "metadata": {},
     "output_type": "execute_result"
    }
   ],
   "source": [
    "np.empty((2, 3), np.int)"
   ]
  },
  {
   "cell_type": "code",
   "execution_count": 45,
   "metadata": {
    "collapsed": false
   },
   "outputs": [
    {
     "data": {
      "text/plain": [
       "array([[0, 0, 0],\n",
       "       [0, 0, 0]])"
      ]
     },
     "execution_count": 45,
     "metadata": {},
     "output_type": "execute_result"
    }
   ],
   "source": [
    "np.zeros((2, 3), np.int)"
   ]
  },
  {
   "cell_type": "code",
   "execution_count": 46,
   "metadata": {
    "collapsed": false
   },
   "outputs": [
    {
     "data": {
      "text/plain": [
       "array([[1, 1, 1],\n",
       "       [1, 1, 1]])"
      ]
     },
     "execution_count": 46,
     "metadata": {},
     "output_type": "execute_result"
    }
   ],
   "source": [
    "np.ones((2, 3), np.int)"
   ]
  },
  {
   "cell_type": "code",
   "execution_count": 47,
   "metadata": {
    "collapsed": false
   },
   "outputs": [
    {
     "data": {
      "text/plain": [
       "array([[0, 0, 0, 0],\n",
       "       [0, 0, 0, 0]])"
      ]
     },
     "execution_count": 47,
     "metadata": {},
     "output_type": "execute_result"
    }
   ],
   "source": [
    "np.empty_like(a)"
   ]
  },
  {
   "cell_type": "code",
   "execution_count": 48,
   "metadata": {
    "collapsed": false
   },
   "outputs": [
    {
     "data": {
      "text/plain": [
       "array([[0, 0, 0, 0],\n",
       "       [0, 0, 0, 0]])"
      ]
     },
     "execution_count": 48,
     "metadata": {},
     "output_type": "execute_result"
    }
   ],
   "source": [
    "np.zeros_like(a)"
   ]
  },
  {
   "cell_type": "code",
   "execution_count": 49,
   "metadata": {
    "collapsed": false
   },
   "outputs": [
    {
     "data": {
      "text/plain": [
       "array([[1, 1, 1, 1],\n",
       "       [1, 1, 1, 1]])"
      ]
     },
     "execution_count": 49,
     "metadata": {},
     "output_type": "execute_result"
    }
   ],
   "source": [
    "np.ones_like(a)"
   ]
  },
  {
   "cell_type": "code",
   "execution_count": 52,
   "metadata": {
    "collapsed": false
   },
   "outputs": [
    {
     "data": {
      "text/plain": [
       "array([ 97,  98,  99, 100, 101, 102], dtype=int8)"
      ]
     },
     "execution_count": 52,
     "metadata": {},
     "output_type": "execute_result"
    }
   ],
   "source": [
    "s = \"abcdef\"\n",
    "np.fromstring(s, dtype=np.int8)"
   ]
  },
  {
   "cell_type": "code",
   "execution_count": 53,
   "metadata": {
    "collapsed": false
   },
   "outputs": [
    {
     "data": {
      "text/plain": [
       "array([25185, 25699, 26213], dtype=int16)"
      ]
     },
     "execution_count": 53,
     "metadata": {},
     "output_type": "execute_result"
    }
   ],
   "source": [
    "np.fromstring(s, dtype=np.int16)"
   ]
  },
  {
   "cell_type": "code",
   "execution_count": 55,
   "metadata": {
    "collapsed": false
   },
   "outputs": [
    {
     "name": "stdout",
     "output_type": "stream",
     "text": [
      "25185\r\n"
     ]
    }
   ],
   "source": [
    "!echo $((98*256+97))"
   ]
  },
  {
   "cell_type": "code",
   "execution_count": 59,
   "metadata": {
    "collapsed": false
   },
   "outputs": [],
   "source": [
    "a = np.arange(10)"
   ]
  },
  {
   "cell_type": "code",
   "execution_count": 60,
   "metadata": {
    "collapsed": false
   },
   "outputs": [
    {
     "data": {
      "text/plain": [
       "(0, 5, 9)"
      ]
     },
     "execution_count": 60,
     "metadata": {},
     "output_type": "execute_result"
    }
   ],
   "source": [
    "a[0], a[5], a[9] #通过整数作为下标访问数组"
   ]
  },
  {
   "cell_type": "code",
   "execution_count": 61,
   "metadata": {
    "collapsed": false
   },
   "outputs": [
    {
     "data": {
      "text/plain": [
       "array([0, 1, 2, 3, 4])"
      ]
     },
     "execution_count": 61,
     "metadata": {},
     "output_type": "execute_result"
    }
   ],
   "source": [
    "a[0:5] #还可以是切片，切片的所有用法都可以用在这类"
   ]
  },
  {
   "cell_type": "code",
   "execution_count": 62,
   "metadata": {
    "collapsed": false
   },
   "outputs": [
    {
     "data": {
      "text/plain": [
       "array([5, 6, 7, 8])"
      ]
     },
     "execution_count": 62,
     "metadata": {},
     "output_type": "execute_result"
    }
   ],
   "source": [
    "a[5:-1]"
   ]
  },
  {
   "cell_type": "code",
   "execution_count": 64,
   "metadata": {
    "collapsed": false
   },
   "outputs": [
    {
     "data": {
      "text/plain": [
       "array([1, 3, 5, 7])"
      ]
     },
     "execution_count": 64,
     "metadata": {},
     "output_type": "execute_result"
    }
   ],
   "source": [
    "a[1:-1:2]"
   ]
  },
  {
   "cell_type": "code",
   "execution_count": 69,
   "metadata": {
    "collapsed": false
   },
   "outputs": [
    {
     "data": {
      "text/plain": [
       "array([0, 1, 2, 3, 4, 5, 6, 7, 8, 9])"
      ]
     },
     "execution_count": 69,
     "metadata": {},
     "output_type": "execute_result"
    }
   ],
   "source": [
    "a[::-1] #切片的开始下标和结束下标可以结束，步长-1表示整个数组头尾颠倒"
   ]
  },
  {
   "cell_type": "code",
   "execution_count": 68,
   "metadata": {
    "collapsed": false
   },
   "outputs": [
    {
     "data": {
      "text/plain": [
       "array([0, 2, 4, 8])"
      ]
     },
     "execution_count": 68,
     "metadata": {},
     "output_type": "execute_result"
    }
   ],
   "source": [
    "a[[0, 2, 4, 8]] #可以通过整数数组存取"
   ]
  },
  {
   "cell_type": "code",
   "execution_count": 67,
   "metadata": {
    "collapsed": false
   },
   "outputs": [
    {
     "data": {
      "text/plain": [
       "array([0, 2, 4, 9])"
      ]
     },
     "execution_count": 67,
     "metadata": {},
     "output_type": "execute_result"
    }
   ],
   "source": [
    "a[[0, 2, 4, -1]] #整数数组中可以包含负数"
   ]
  },
  {
   "cell_type": "code",
   "execution_count": 73,
   "metadata": {
    "collapsed": false
   },
   "outputs": [
    {
     "name": "stdout",
     "output_type": "stream",
     "text": [
      "a=[10  1  2  3  4  5  6  7  8  9]\n",
      "b=[10  1]\n"
     ]
    }
   ],
   "source": [
    "b = a[0:2] #a和b共享内存\n",
    "a[0] = 10\n",
    "print \"a={}\".format(a)\n",
    "print \"b={}\".format(b)"
   ]
  },
  {
   "cell_type": "code",
   "execution_count": 79,
   "metadata": {
    "collapsed": false
   },
   "outputs": [
    {
     "name": "stdout",
     "output_type": "stream",
     "text": [
      "a is [10  1  2  3  4  5  6  7  8  9]\n",
      "c is [0 1 2 3]\n"
     ]
    }
   ],
   "source": [
    "c = a[[0, 1, 2, 3]] #以整数数组方式访问，a和c不共享内存\n",
    "c[0] = 0\n",
    "print \"a is {}\".format(a)\n",
    "print \"c is {}\".format(c)"
   ]
  },
  {
   "cell_type": "code",
   "execution_count": 86,
   "metadata": {
    "collapsed": false
   },
   "outputs": [
    {
     "data": {
      "text/plain": [
       "array([[1, 2, 3],\n",
       "       [4, 5, 6]])"
      ]
     },
     "execution_count": 86,
     "metadata": {},
     "output_type": "execute_result"
    }
   ],
   "source": [
    "b = a[np.array([[1,2,3], [4,5,6]])]\n",
    "b"
   ]
  },
  {
   "cell_type": "code",
   "execution_count": 95,
   "metadata": {
    "collapsed": false
   },
   "outputs": [
    {
     "name": "stdout",
     "output_type": "stream",
     "text": [
      "x: [ 0.61081095  0.20557952  0.60198909  0.79910561  0.48294425]\n",
      "bool array: [ True False  True  True False]\n"
     ]
    },
    {
     "data": {
      "text/plain": [
       "array([ 0.61081095,  0.60198909,  0.79910561])"
      ]
     },
     "execution_count": 95,
     "metadata": {},
     "output_type": "execute_result"
    }
   ],
   "source": [
    "x = np.random.rand(5)\n",
    "print \"x: {}\".format(x)\n",
    "\n",
    "bool_array = x>0.5\n",
    "print \"bool array: {}\".format(bool_array)\n",
    "\n",
    "x[bool_array]"
   ]
  },
  {
   "cell_type": "code",
   "execution_count": 108,
   "metadata": {
    "collapsed": false
   },
   "outputs": [
    {
     "name": "stdout",
     "output_type": "stream",
     "text": [
      "------------------ a ------------------\n",
      "[[  0.   1.   2.   3.   4.]\n",
      " [  5.   6.   7.   8.   9.]\n",
      " [ 10.  11.  12.  13.  14.]\n",
      " [ 15.  16.  17.  18.  19.]\n",
      " [ 20.  21.  22.  23.  24.]]\n",
      "-------------- a[0, 3:5] --------------\n",
      "[ 3.  4.]\n",
      "-------------- a[3:, 3:] --------------\n",
      "[[ 18.  19.]\n",
      " [ 23.  24.]]\n",
      "--------------- a[:, 3] ---------------\n",
      "[  3.   8.  13.  18.  23.]\n",
      "------------ a[2::2, ::2] -------------\n",
      "[[ 10.  12.  14.]\n",
      " [ 20.  22.  24.]]\n"
     ]
    }
   ],
   "source": [
    "def func(i, j):\n",
    "    return i*5 + j\n",
    "\n",
    "a = np.fromfunction(func, (5, 5))\n",
    "print \"------------------ a ------------------\"\n",
    "print a\n",
    "\n",
    "print \"-------------- a[0, 3:5] --------------\"\n",
    "print a[0, 3:5]\n",
    "\n",
    "print \"-------------- a[3:, 3:] --------------\"\n",
    "print a[3:, 3:]\n",
    "\n",
    "print \"--------------- a[:, 3] ---------------\"\n",
    "print a[:, 3]\n",
    "\n",
    "print \"------------ a[2::2, ::2] -------------\"\n",
    "print a[2::2, ::2]"
   ]
  },
  {
   "cell_type": "code",
   "execution_count": 111,
   "metadata": {
    "collapsed": false
   },
   "outputs": [
    {
     "name": "stdout",
     "output_type": "stream",
     "text": [
      "[ 10.   8.  13.  18.  23.]\n",
      "[[  0.   1.   2.  10.   4.]\n",
      " [  5.   6.   7.   8.   9.]\n",
      " [ 10.  11.  12.  13.  14.]\n",
      " [ 15.  16.  17.  18.  19.]\n",
      " [ 20.  21.  22.  23.  24.]]\n"
     ]
    }
   ],
   "source": [
    "b = a[:, 3] # a与b共享内存\n",
    "b[0] = 10\n",
    "print b\n",
    "print a"
   ]
  },
  {
   "cell_type": "markdown",
   "metadata": {},
   "source": [
    "##函数库\n",
    "###求和"
   ]
  },
  {
   "cell_type": "code",
   "execution_count": 115,
   "metadata": {
    "collapsed": false
   },
   "outputs": [
    {
     "name": "stdout",
     "output_type": "stream",
     "text": [
      "sum of a is 15\n"
     ]
    }
   ],
   "source": [
    "a = np.array([1, 2, 3, 4, 5])\n",
    "sum = np.sum(a)\n",
    "print \"sum of a is {}\".format(sum)"
   ]
  },
  {
   "cell_type": "code",
   "execution_count": 120,
   "metadata": {
    "collapsed": false
   },
   "outputs": [
    {
     "name": "stdout",
     "output_type": "stream",
     "text": [
      "[[0 9 6 9 8]\n",
      " [4 5 6 6 2]\n",
      " [9 0 7 7 9]\n",
      " [7 3 4 2 5]]\n",
      "108\n"
     ]
    }
   ],
   "source": [
    "a = np.random.randint(0, 10, size=(4, 5))\n",
    "a"
   ]
  },
  {
   "cell_type": "code",
   "execution_count": 121,
   "metadata": {
    "collapsed": false
   },
   "outputs": [
    {
     "name": "stdout",
     "output_type": "stream",
     "text": [
      "108\n"
     ]
    }
   ],
   "source": [
    "print np.sum(a) #当数组是多维时，计算所有元素之和"
   ]
  },
  {
   "cell_type": "code",
   "execution_count": 122,
   "metadata": {
    "collapsed": false
   },
   "outputs": [
    {
     "name": "stdout",
     "output_type": "stream",
     "text": [
      "[20 17 23 24 24]\n"
     ]
    }
   ],
   "source": [
    "print np.sum(a, axis=0)"
   ]
  },
  {
   "cell_type": "code",
   "execution_count": 123,
   "metadata": {
    "collapsed": false
   },
   "outputs": [
    {
     "name": "stdout",
     "output_type": "stream",
     "text": [
      "[32 23 32 21]\n"
     ]
    }
   ],
   "source": [
    "print np.sum(a, axis=1)"
   ]
  },
  {
   "cell_type": "code",
   "execution_count": 126,
   "metadata": {
    "collapsed": false
   },
   "outputs": [
    {
     "name": "stdout",
     "output_type": "stream",
     "text": [
      "9\n"
     ]
    }
   ],
   "source": [
    "max = np.max(a)\n",
    "print max"
   ]
  },
  {
   "cell_type": "code",
   "execution_count": 132,
   "metadata": {
    "collapsed": false
   },
   "outputs": [
    {
     "name": "stdout",
     "output_type": "stream",
     "text": [
      "1\n",
      "(0, 1)\n",
      "9\n"
     ]
    }
   ],
   "source": [
    "max_index = np.argmax(a)\n",
    "print max_index\n",
    "\n",
    "max_index = np.unravel_index(max_index, a.shape)\n",
    "print max_index\n",
    "print a[max_index]"
   ]
  },
  {
   "cell_type": "code",
   "execution_count": 133,
   "metadata": {
    "collapsed": false
   },
   "outputs": [
    {
     "data": {
      "text/plain": [
       "array([[0, 6, 8, 9, 9],\n",
       "       [2, 4, 5, 6, 6],\n",
       "       [0, 7, 7, 9, 9],\n",
       "       [2, 3, 4, 5, 7]])"
      ]
     },
     "execution_count": 133,
     "metadata": {},
     "output_type": "execute_result"
    }
   ],
   "source": [
    "np.sort(a) #axis默认为1，对行排序"
   ]
  },
  {
   "cell_type": "code",
   "execution_count": 135,
   "metadata": {
    "collapsed": false
   },
   "outputs": [
    {
     "data": {
      "text/plain": [
       "array([[0, 0, 4, 2, 2],\n",
       "       [4, 3, 6, 6, 5],\n",
       "       [7, 5, 6, 7, 8],\n",
       "       [9, 9, 7, 9, 9]])"
      ]
     },
     "execution_count": 135,
     "metadata": {},
     "output_type": "execute_result"
    }
   ],
   "source": [
    "np.sort(a, axis=0)"
   ]
  }
 ],
 "metadata": {
  "kernelspec": {
   "display_name": "Python 2",
   "language": "python",
   "name": "python2"
  },
  "language_info": {
   "codemirror_mode": {
    "name": "ipython",
    "version": 2
   },
   "file_extension": ".py",
   "mimetype": "text/x-python",
   "name": "python",
   "nbconvert_exporter": "python",
   "pygments_lexer": "ipython2",
   "version": "2.7.10"
  }
 },
 "nbformat": 4,
 "nbformat_minor": 0
}
