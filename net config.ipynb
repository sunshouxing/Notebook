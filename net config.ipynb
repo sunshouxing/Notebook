{
 "cells": [
  {
   "cell_type": "markdown",
   "metadata": {},
   "source": [
    "Take CentOS 6.7 for example:\n",
    "\n",
    "$ cat /etc/sysconfig/network-scripts/ifcfg-Auto_eth0\n",
    "\n",
    "```\n",
    "HWADDR=00:0C:29:35:EF:F6\n",
    "TYPE=Ethernet\n",
    "BOOTPROTO=none\n",
    "IPADDR=192.168.5.5\n",
    "PREFIX=24\n",
    "GATEWAY=192.168.5.2\n",
    "DNS1=192.168.5.2\n",
    "DEFROUTE=yes\n",
    "IPV4_FAILURE_FATAL=yes\n",
    "IPV6INIT=no\n",
    "NAME=\"Auto eth0\"\n",
    "UUID=7a5283f1-3013-4623-8478-0e0e2639b59e\n",
    "ONBOOT=yes\n",
    "LAST_CONNECT=1411465648\n",
    "```\n",
    "\n",
    "See [centos networkscripts interfaces](https://www.centos.org/docs/5/html/Deployment_Guide-en-US/s1-networkscripts-interfaces.html) for more infomation."
   ]
  }
 ],
 "metadata": {
  "kernelspec": {
   "display_name": "Python 2",
   "language": "python",
   "name": "python2"
  },
  "language_info": {
   "codemirror_mode": {
    "name": "ipython",
    "version": 2
   },
   "file_extension": ".py",
   "mimetype": "text/x-python",
   "name": "python",
   "nbconvert_exporter": "python",
   "pygments_lexer": "ipython2",
   "version": "2.7.10"
  }
 },
 "nbformat": 4,
 "nbformat_minor": 0
}
