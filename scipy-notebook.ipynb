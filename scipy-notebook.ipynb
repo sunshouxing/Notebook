{
 "cells": [
  {
   "cell_type": "markdown",
   "metadata": {
    "deletable": true,
    "editable": true
   },
   "source": [
    "# Use docker jupyter/scipy-notebook\n",
    "\n",
    "\n",
    "## 1. pull docker image\n",
    "```bash\n",
    "docker pull jupyter/scipy-notebook\n",
    "```\n",
    "\n",
    "## 2. start docker container\n",
    "```bash\n",
    "NOTEBOOK_DATA_DIR=\"/home/arthur/Documents/notebook\"\n",
    "\n",
    "docker run \\\n",
    " --detach \\\n",
    " --name=jupyter \\\n",
    " --publish=80:8888 \\\n",
    " --volume=${NOTEBOOK_DATA_DIR}:/home/jovyan/work \\\n",
    " --restart=always \\\n",
    " jupyter/scipy-notebook start-notebook.sh --NotebookApp.token=''\n",
    "```\n"
   ]
  }
 ],
 "metadata": {
  "kernelspec": {
   "display_name": "Python 2",
   "language": "python",
   "name": "python2"
  },
  "language_info": {
   "codemirror_mode": {
    "name": "ipython",
    "version": 2
   },
   "file_extension": ".py",
   "mimetype": "text/x-python",
   "name": "python",
   "nbconvert_exporter": "python",
   "pygments_lexer": "ipython2",
   "version": "2.7.12"
  }
 },
 "nbformat": 4,
 "nbformat_minor": 2
}
