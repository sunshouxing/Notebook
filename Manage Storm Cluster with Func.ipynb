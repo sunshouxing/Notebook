{
 "cells": [
  {
   "cell_type": "markdown",
   "metadata": {},
   "source": [
    "## 使用Func运维Storm集群"
   ]
  },
  {
   "cell_type": "markdown",
   "metadata": {},
   "source": [
    "1.检查集群中所有机器的运行状态\n",
    "```bash\n",
    "$ func \"*\" ping\n",
    "[ ok ... ] storm010099204068.cm8\n",
    "[ ok ... ] storm010099204069.cm8\n",
    "[ ok ... ] storm010099204070.cm8\n",
    "[ FAILED ] storm010207000061.cm3\n",
    "...\n",
    "```\n",
    "更准确地说，上面的命令是检查funcd的运行状态，但因为funcd注册为开机自动运行服务，所以funcd服务不存在，很可能机器挂了。\n"
   ]
  },
  {
   "cell_type": "markdown",
   "metadata": {},
   "source": [
    "2.文件部署\n",
    "```\n",
    "$ func \"*.cm8\" copyfile --file=/tmp/foo --remotepath=/tmp/foo\n",
    "```\n",
    "将overload上/tmp/foo部署到与\"*.cm8\"匹配的所有机器，避免了重复登录目标主机"
   ]
  },
  {
   "cell_type": "markdown",
   "metadata": {},
   "source": [
    "3.修改配置文件\n",
    "\n",
    "这里举一个比较实用的例子：各个kafka server需要拥有不同的brokerid，因此需要在部署过程中一一修改配置文件，这里用一个简单的脚本一步搞定。\n",
    "```bash\n",
    "#!/bin/sh\n",
    "\n",
    "i=500\n",
    "\n",
    "while read minion\n",
    "do\n",
    "    sudo func \"${minion}\" call command run \"sed -i -e '20 c brokerid='$((++i))'' /home/admin/saf/etc/kafka.conf\"\n",
    "done\n",
    "```"
   ]
  },
  {
   "cell_type": "markdown",
   "metadata": {},
   "source": [
    "4.进程管理\n",
    "\n",
    "```\n",
    "$ func \"storm010207000085.cm3\" call command run \"supervisorctl status kafka\"\n",
    "(\n",
    "    'storm010207000085.cm3',\n",
    "    [0, 'supervisor                       RUNNING   pid 30416, uptime 3:32:10\\n', '']\n",
    ")\n",
    "\n",
    "$ func \"storm010207000085.cm3\" call command run \"supervisorctl stop kafka\"\n",
    "('storm010207000085.cm3', [0, 'kafka: stopped\\n', ''])\n",
    "\n",
    "$ func \"storm010207000085.cm3\" call command run \"supervisorctl start kafka\"\n",
    "('storm010207000085.cm3', [0, 'kafka: started\\n', ''])\n",
    "```"
   ]
  }
 ],
 "metadata": {
  "kernelspec": {
   "display_name": "Python 2",
   "language": "python",
   "name": "python2"
  },
  "language_info": {
   "codemirror_mode": {
    "name": "ipython",
    "version": 2
   },
   "file_extension": ".py",
   "mimetype": "text/x-python",
   "name": "python",
   "nbconvert_exporter": "python",
   "pygments_lexer": "ipython2",
   "version": "2.7.10"
  }
 },
 "nbformat": 4,
 "nbformat_minor": 0
}
