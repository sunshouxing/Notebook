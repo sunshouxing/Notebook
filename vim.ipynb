{
 "cells": [
  {
   "cell_type": "markdown",
   "metadata": {
    "toc": "true"
   },
   "source": [
    "# Table of Contents\n",
    "\n",
    "\n",
    "1. [config](#config)\n",
    "1. [often-used digraphs](#often-used-digraphs)\n",
    "1. [key mapping](#key-mapping)\n",
    "1. [vim schemes](#vim-schemes)"
   ]
  },
  {
   "cell_type": "markdown",
   "metadata": {},
   "source": [
    "## config\n",
    "\n",
    "* reference to [amix/vimrc](https://github.com/amix/vimrc)"
   ]
  },
  {
   "cell_type": "markdown",
   "metadata": {},
   "source": [
    "## often-used digraphs\n",
    "\n",
    "### help doc\n",
    "`:digraphs`\n",
    "\n",
    "### examples\n",
    "* ■ fS\n",
    "* □ OS\n",
    "* ● 0M\n",
    "* ○ 0m\n",
    "* △ uT"
   ]
  },
  {
   "cell_type": "markdown",
   "metadata": {},
   "source": [
    "##  Sorting with external sort (:% !sort -u)\n",
    "    contents of the current file is sorted and only unique lines are kept"
   ]
  },
  {
   "cell_type": "markdown",
   "metadata": {},
   "source": [
    "## Format XML files\n",
    "    :filetype indent on\n",
    "    :e\n",
    "    :set indentexpr=XmlIndentGet(v:lnum,1)\n",
    "    gg=G    "
   ]
  },
  {
   "cell_type": "markdown",
   "metadata": {},
   "source": [
    "## Gvim \n",
    "    set guioptions-=T\n",
    "    set guitablabel=%t\n",
    "    \n",
    "    \" set gvim font\n",
    "    set guifont=courier_new:h15\n",
    "    \n",
    "    \" no backup files (~)\n",
    "    set nobackup\n",
    "    "
   ]
  },
  {
   "cell_type": "markdown",
   "metadata": {},
   "source": [
    "## key mapping\n",
    "\n",
    "### Brackets atuo complete\n",
    "```vim\n",
    "    set ai\n",
    "    inoremap ( ()<Esc>i\n",
    "    inoremap [ []<Esc>i\n",
    "    inoremap < <><Esc>i\n",
    "    inoremap { {}<Esc>i<CR><Esc>O<Tab>\n",
    "```\n",
    "    \n",
    "### switch on/off line numbers with F12\n",
    "    nnoremap <F12> :set nu!<CR>\n",
    "    \n",
    "### write main function quickly in insert mode\n",
    "    inoremap <F4> int<Space>main(int<Space>argc,<Space>char<Space>*argv[]){<CR>}<Esc>O<Tab>\n"
   ]
  },
  {
   "cell_type": "markdown",
   "metadata": {},
   "source": [
    "## vim schemes\n",
    "\n",
    "* ref to [Vivify](http://bytefluent.com/vivify/)\n",
    "* my favorite: herald"
   ]
  },
  {
   "cell_type": "markdown",
   "metadata": {},
   "source": [
    "## vim plugins\n",
    "\n",
    "### most useful\n",
    "* [NE]"
   ]
  }
 ],
 "metadata": {
  "kernelspec": {
   "display_name": "Python 2",
   "language": "python",
   "name": "python2"
  },
  "language_info": {
   "codemirror_mode": {
    "name": "ipython",
    "version": 2
   },
   "file_extension": ".py",
   "mimetype": "text/x-python",
   "name": "python",
   "nbconvert_exporter": "python",
   "pygments_lexer": "ipython2",
   "version": "2.7.13"
  },
  "nav_menu": {},
  "toc": {
   "navigate_menu": true,
   "number_sections": false,
   "sideBar": true,
   "threshold": 6,
   "toc_cell": true,
   "toc_section_display": "block",
   "toc_window_display": false
  }
 },
 "nbformat": 4,
 "nbformat_minor": 1
}
