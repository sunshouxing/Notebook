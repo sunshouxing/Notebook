{
 "cells": [
  {
   "cell_type": "markdown",
   "metadata": {
    "toc": "true"
   },
   "source": [
    "# Table of Contents\n",
    " <p><div class=\"lev2 toc-item\"><a href=\"#Often-used-digraphs-(:digraphs)\" data-toc-modified-id=\"Often-used-digraphs-(:digraphs)-0.1\"><span class=\"toc-item-num\">0.1&nbsp;&nbsp;</span>Often-used digraphs (:digraphs)</a></div><div class=\"lev2 toc-item\"><a href=\"#Sorting-with-external-sort-(:%-!sort--u)\" data-toc-modified-id=\"Sorting-with-external-sort-(:%-!sort--u)-0.2\"><span class=\"toc-item-num\">0.2&nbsp;&nbsp;</span>Sorting with external sort (:% !sort -u)</a></div><div class=\"lev2 toc-item\"><a href=\"#Format-XML-files\" data-toc-modified-id=\"Format-XML-files-0.3\"><span class=\"toc-item-num\">0.3&nbsp;&nbsp;</span>Format XML files</a></div><div class=\"lev2 toc-item\"><a href=\"#Gvim\" data-toc-modified-id=\"Gvim-0.4\"><span class=\"toc-item-num\">0.4&nbsp;&nbsp;</span>Gvim</a></div><div class=\"lev2 toc-item\"><a href=\"#Brackets-atuo-complete\" data-toc-modified-id=\"Brackets-atuo-complete-0.5\"><span class=\"toc-item-num\">0.5&nbsp;&nbsp;</span>Brackets atuo complete</a></div><div class=\"lev2 toc-item\"><a href=\"#switch-on/off-line-numbers-with-F12\" data-toc-modified-id=\"switch-on/off-line-numbers-with-F12-0.6\"><span class=\"toc-item-num\">0.6&nbsp;&nbsp;</span>switch on/off line numbers with F12</a></div><div class=\"lev2 toc-item\"><a href=\"#write-main-function-quickly-in-insert-mode\" data-toc-modified-id=\"write-main-function-quickly-in-insert-mode-0.7\"><span class=\"toc-item-num\">0.7&nbsp;&nbsp;</span>write main function quickly in insert mode</a></div>"
   ]
  },
  {
   "cell_type": "markdown",
   "metadata": {},
   "source": [
    "## Often-used digraphs (:digraphs)\n",
    "    ■ fS | □ OS | ● 0M | ○ 0m | △ uT"
   ]
  },
  {
   "cell_type": "markdown",
   "metadata": {},
   "source": [
    "##  Sorting with external sort (:% !sort -u)\n",
    "    contents of the current file is sorted and only unique lines are kept"
   ]
  },
  {
   "cell_type": "markdown",
   "metadata": {},
   "source": [
    "## Format XML files\n",
    "    :filetype indent on\n",
    "    :e\n",
    "    :set indentexpr=XmlIndentGet(v:lnum,1)\n",
    "    gg=G    "
   ]
  },
  {
   "cell_type": "markdown",
   "metadata": {},
   "source": [
    "## Gvim \n",
    "    set guioptions-=T\n",
    "    set guitablabel=%t\n",
    "    \n",
    "    \" set gvim font\n",
    "    set guifont=courier_new:h15\n",
    "    \n",
    "    \" no backup files (~)\n",
    "    set nobackup\n",
    "    "
   ]
  },
  {
   "cell_type": "markdown",
   "metadata": {},
   "source": [
    "## Brackets atuo complete \n",
    "    set ai\n",
    "    inoremap ( ()<Esc>i\n",
    "    inoremap [ []<Esc>i\n",
    "    inoremap < <><Esc>i\n",
    "    inoremap { {}<Esc>i<CR><Esc>O<Tab>"
   ]
  },
  {
   "cell_type": "markdown",
   "metadata": {},
   "source": [
    "## switch on/off line numbers with F12\n",
    "    nnoremap <F12> :set nu!<CR>\n"
   ]
  },
  {
   "cell_type": "markdown",
   "metadata": {},
   "source": [
    "## write main function quickly in insert mode\n",
    "    inoremap <F4> int<Space>main(int<Space>argc,<Space>char<Space>*argv[]){<CR>}<Esc>O<Tab>"
   ]
  },
  {
   "cell_type": "raw",
   "metadata": {},
   "source": [
    "reselect prorior\n",
    "\n",
    "gv"
   ]
  }
 ],
 "metadata": {
  "kernelspec": {
   "display_name": "Python 2",
   "language": "python",
   "name": "python2"
  },
  "language_info": {
   "codemirror_mode": {
    "name": "ipython",
    "version": 2
   },
   "file_extension": ".py",
   "mimetype": "text/x-python",
   "name": "python",
   "nbconvert_exporter": "python",
   "pygments_lexer": "ipython2",
   "version": "2.7.13"
  },
  "nav_menu": {},
  "toc": {
   "navigate_menu": true,
   "number_sections": false,
   "sideBar": true,
   "threshold": 6,
   "toc_cell": true,
   "toc_section_display": "block",
   "toc_window_display": false
  }
 },
 "nbformat": 4,
 "nbformat_minor": 1
}
