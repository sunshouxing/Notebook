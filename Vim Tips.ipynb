{
 "cells": [
  {
   "cell_type": "markdown",
   "metadata": {},
   "source": [
    "#### Often-used digraphs (:digraphs)\n",
    "    ■ fS | □ OS | ● 0M | ○ 0m | △ uT"
   ]
  },
  {
   "cell_type": "markdown",
   "metadata": {},
   "source": [
    "####  Sorting with external sort (:% !sort -u)\n",
    "    contents of the current file is sorted and only unique lines are kept"
   ]
  },
  {
   "cell_type": "markdown",
   "metadata": {},
   "source": [
    "#### Format XML files\n",
    "    :filetype indent on\n",
    "    :e\n",
    "    :set indentexpr=XmlIndentGet(v:lnum,1)\n",
    "    gg=G    "
   ]
  },
  {
   "cell_type": "markdown",
   "metadata": {},
   "source": [
    "#### Gvim \n",
    "    set guioptions-=T\n",
    "    set guitablabel=%t"
   ]
  },
  {
   "cell_type": "markdown",
   "metadata": {},
   "source": [
    "#### Brackets atuo complete \n",
    "    set ai\n",
    "    inoremap ( ()<Esc>i\n",
    "    inoremap [ []<Esc>i\n",
    "    inoremap < <><Esc>i\n",
    "    inoremap { {}<Esc>i<CR><Esc>O<Tab>"
   ]
  },
  {
   "cell_type": "markdown",
   "metadata": {},
   "source": [
    "#### switch on/off line numbers with F12\n",
    "    nnoremap <F12> :set nu!<CR>\n"
   ]
  },
  {
   "cell_type": "markdown",
   "metadata": {},
   "source": [
    "#### write main function quickly in insert mode\n",
    "    inoremap <F4> int<Space>main(int<Space>argc,<Space>char<Space>*argv[]){<CR>}<Esc>O<Tab>"
   ]
  }
 ],
 "metadata": {
  "kernelspec": {
   "display_name": "Python 2",
   "language": "python",
   "name": "python2"
  },
  "language_info": {
   "codemirror_mode": {
    "name": "ipython",
    "version": 2
   },
   "file_extension": ".py",
   "mimetype": "text/x-python",
   "name": "python",
   "nbconvert_exporter": "python",
   "pygments_lexer": "ipython2",
   "version": "2.7.10"
  }
 },
 "nbformat": 4,
 "nbformat_minor": 0
}
