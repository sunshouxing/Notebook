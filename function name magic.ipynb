{
 "cells": [
  {
   "cell_type": "markdown",
   "metadata": {},
   "source": [
    "### 1.Keynote\n",
    "\n",
    "Certain classes of identifiers (besides keywords) have special meanings. These classes are identified by the patterns of leading and trailing underscore characters:\n",
    "\n",
    "- \\_*:\n",
    "> Not imported by from module import *. The special identifier \\_ is used in the interactive interpreter to store the result of the last evaluation; it is stored in the \\_\\_builtin\\_\\_ module. When not in interactive mode, \\_ has no special meaning and is not defined. See section The [import statement](https://docs.python.org/2.7/reference/simple_stmts.html#import). Note that: The name \\_ is often used in conjunction with internationalization; refer to the documentation for the [gettext](https://docs.python.org/2.7/library/gettext.html#module-gettext) module for more information on this convention.\n",
    "\n",
    "- \\_\\_*\\_\\_:\n",
    "> System-defined names. These names are defined by the interpreter and its implementation (including the standard library). Current system names are discussed in the [Special method names section](https://docs.python.org/2.7/reference/datamodel.html#specialnames) and elsewhere. More will likely be defined in future versions of Python. Any use of \\_\\_*\\_\\_ names, in any context, that does not follow explicitly documented use, is subject to breakage without warning.\n",
    "\n",
    "- \\_\\_*:\n",
    "> Class-private names. Names in this category, when used within the context of a class definition, are re-written to use a mangled form to help avoid name clashes between “private” attributes of base and derived classes. See section [Identifiers (Names)](https://docs.python.org/2.7/reference/expressions.html#atom-identifiers).\n",
    "\n",
    "---"
   ]
  },
  {
   "cell_type": "markdown",
   "metadata": {},
   "source": [
    "### 2. Demonstration\n",
    "\n",
    "Functions in module:\n",
    "\n",
    "```python\n",
    "# the functions module is defined like this\n",
    "def func():\n",
    "    print \"func\"\n",
    "\n",
    "def _func():\n",
    "    print \"_func\"\n",
    "\n",
    "def __func():\n",
    "    print \"__func\"\n",
    "```"
   ]
  },
  {
   "cell_type": "code",
   "execution_count": 3,
   "metadata": {
    "collapsed": false
   },
   "outputs": [
    {
     "name": "stdout",
     "output_type": "stream",
     "text": [
      "func\n",
      "name '_func' is not defined.\n",
      "name '__func' is not defined.\n"
     ]
    }
   ],
   "source": [
    "from functions import *\n",
    "\n",
    "for func_name in [\"func\", \"_func\", \"__func\"]:\n",
    "    try:\n",
    "        exec(\"{}()\".format(func_name))\n",
    "    except NameError:\n",
    "        print \"name '{}' is not defined.\".format(func_name)"
   ]
  },
  {
   "cell_type": "markdown",
   "metadata": {},
   "source": [
    "As shown above, when we use \"from module import *\" pattern, only functions with no prefix underscore can be imported, buf if we call functions with \"module.function\" mode, all the functions can be used. For examples:"
   ]
  },
  {
   "cell_type": "code",
   "execution_count": null,
   "metadata": {
    "collapsed": true
   },
   "outputs": [],
   "source": [
    "import functions\n",
    "\n",
    "functions.func()\n",
    "functions._func()\n",
    "functions.__func()"
   ]
  },
  {
   "cell_type": "markdown",
   "metadata": {},
   "source": [
    "In fact, which function can be imported when we use \"from module import *\" pattern relies on the '\\_\\_all\\_\\_' magic word defined in the module:\n",
    "\n",
    "```python\n",
    "# the functions2 module is defined like this\n",
    "\n",
    "__all__ = ['func', '_func', '__func']\n",
    "\n",
    "def func():\n",
    "    print \"func\"\n",
    "\n",
    "def _func():\n",
    "    print \"_func\"\n",
    "\n",
    "def __func():\n",
    "    print \"__func\"\n",
    "```"
   ]
  },
  {
   "cell_type": "code",
   "execution_count": null,
   "metadata": {
    "collapsed": false
   },
   "outputs": [],
   "source": [
    "from functions2 import *\n",
    "\n",
    "func()\n",
    "_func()\n",
    "__func()"
   ]
  },
  {
   "cell_type": "markdown",
   "metadata": {},
   "source": [
    "Now we can import all the functions in the functions2 module.\n",
    "\n",
    "---"
   ]
  }
 ],
 "metadata": {
  "kernelspec": {
   "display_name": "Python 2",
   "language": "python",
   "name": "python2"
  },
  "language_info": {
   "codemirror_mode": {
    "name": "ipython",
    "version": 2
   },
   "file_extension": ".py",
   "mimetype": "text/x-python",
   "name": "python",
   "nbconvert_exporter": "python",
   "pygments_lexer": "ipython2",
   "version": "2.7.12"
  },
  "nav_menu": {},
  "toc": {
   "navigate_menu": true,
   "number_sections": true,
   "sideBar": true,
   "threshold": 6,
   "toc_cell": false,
   "toc_section_display": "block",
   "toc_window_display": false
  }
 },
 "nbformat": 4,
 "nbformat_minor": 0
}
