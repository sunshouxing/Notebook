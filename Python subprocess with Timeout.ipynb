{
 "cells": [
  {
   "cell_type": "markdown",
   "metadata": {},
   "source": [
    "通过[alarm](alarm.ipynb)给 python subprocess模块增加超时机制。"
   ]
  },
  {
   "cell_type": "code",
   "execution_count": null,
   "metadata": {
    "collapsed": false
   },
   "outputs": [],
   "source": [
    "# -*- coding: utf-8 -*-\n",
    "\n",
    "r\"\"\"subprocess with timeout mechanism.\n",
    "Since the subprocess module in Python's standard library can't handle subprocess\n",
    "block permanently, we write this module to enhance subprocess module with a timeout\n",
    "mechanism. User can specify a timeout value when invoking the run function and the\n",
    "run function will return a result with exit status -9 if timeout happens.\n",
    "\"\"\"\n",
    "\n",
    "__all__ = ['run']\n",
    "\n",
    "from os import kill\n",
    "from signal import alarm, signal, SIGALRM, SIGKILL\n",
    "from subprocess import PIPE, Popen\n",
    "\n",
    "\n",
    "def run(args, cwd=None, shell=False, kill_tree=True, timeout=-1, env=None):\n",
    "    \"\"\"\n",
    "    Run a command with a timeout after which it will be forcibly killed.\n",
    "    \"\"\"\n",
    "\n",
    "    class Alarm(Exception):\n",
    "        pass\n",
    "\n",
    "    def alarm_handler(signum, frame):\n",
    "        raise Alarm\n",
    "\n",
    "    p = Popen(args, shell=shell, cwd=cwd, stdout=PIPE, stderr=PIPE, env=env)\n",
    "\n",
    "    # setup alarm handler for timeout\n",
    "    if timeout != -1:\n",
    "        signal(SIGALRM, alarm_handler)\n",
    "        alarm(timeout)\n",
    "\n",
    "    try:\n",
    "        out, err = p.communicate()\n",
    "        # enter alarm handler to cancel previously set alarm\n",
    "        if timeout != -1:\n",
    "            alarm(0)\n",
    "    except Alarm:\n",
    "        pids = [p.pid]\n",
    "        if kill_tree:\n",
    "            pids.extend(get_child_process(p.pid))\n",
    "        for pid in pids:\n",
    "            # process might have died before getting to this line so wrap to avoid OSError\n",
    "            try:\n",
    "                kill(pid, SIGKILL)\n",
    "            except OSError:\n",
    "                pass\n",
    "        # return in alarm\n",
    "        return -9, \"\", \"\"\n",
    "\n",
    "    return p.returncode, out, err\n",
    "\n",
    "\n",
    "def get_child_process(pid):\n",
    "    p = Popen(\"ps --no-headers -o pid --ppid {}\".format(pid), shell=True, stdout=PIPE, stderr=PIPE)\n",
    "    out = p.communicate()[0]\n",
    "    return [int(p) for p in out.split()]\n"
   ]
  }
 ],
 "metadata": {
  "kernelspec": {
   "display_name": "Python 2",
   "language": "python",
   "name": "python2"
  },
  "language_info": {
   "codemirror_mode": {
    "name": "ipython",
    "version": 2
   },
   "file_extension": ".py",
   "mimetype": "text/x-python",
   "name": "python",
   "nbconvert_exporter": "python",
   "pygments_lexer": "ipython2",
   "version": "2.7.12"
  }
 },
 "nbformat": 4,
 "nbformat_minor": 0
}
