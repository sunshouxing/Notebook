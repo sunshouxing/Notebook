{
 "cells": [
  {
   "cell_type": "markdown",
   "metadata": {},
   "source": [
    "In plain English: String literals can be enclosed in matching single quotes (') or double quotes (\"). The backslash (\\\\) character is used to escape characters that otherwise have a special meaning, such as newline, backslash itself, or the quote character."
   ]
  },
  {
   "cell_type": "code",
   "execution_count": 25,
   "metadata": {
    "collapsed": false
   },
   "outputs": [
    {
     "name": "stdout",
     "output_type": "stream",
     "text": [
      "A double-quoted string with character \" in it\n",
      "A double-quoted string with character ‘ in it\n",
      "A singal-quoted string with character \" in it\n",
      "A singal-quoted string with character ' in it\n",
      "A string use backslash to escape characters \n",
      "\n",
      "A string contains backslash \\\n"
     ]
    }
   ],
   "source": [
    "print \"A double-quoted string with character \\\" in it\"\n",
    "print \"A double-quoted string with character ‘ in it\"\n",
    "\n",
    "print 'A singal-quoted string with character \" in it'\n",
    "print 'A singal-quoted string with character \\' in it'\n",
    "\n",
    "print \"A string use backslash to escape characters \\n\"\n",
    "print \"A string contains backslash \\\\\""
   ]
  },
  {
   "cell_type": "markdown",
   "metadata": {},
   "source": [
    "----"
   ]
  },
  {
   "cell_type": "markdown",
   "metadata": {},
   "source": [
    "String literals can also be enclosed in matching groups of three single or double quotes (these are generally referred to as triple-quoted strings). In triple-quoted strings, unescaped newlines and quotes are allowed (and are retained), except that three unescaped quotes in a row terminate the string. (A “quote” is the character used to open the string, i.e. either ' or \".)"
   ]
  },
  {
   "cell_type": "code",
   "execution_count": 26,
   "metadata": {
    "collapsed": false
   },
   "outputs": [
    {
     "name": "stdout",
     "output_type": "stream",
     "text": [
      "A  triple-quoted string allows single quotes ('), double quotes (\") and  backslash (\\),\n",
      "and also a new line is allowed.\n",
      "\n"
     ]
    }
   ],
   "source": [
    "print \"\"\"A  triple-quoted string allows single quotes ('), double quotes (\") and  backslash (\\),\n",
    "and also a new line is allowed.\n",
    "\"\"\""
   ]
  },
  {
   "cell_type": "markdown",
   "metadata": {},
   "source": [
    "----"
   ]
  },
  {
   "cell_type": "markdown",
   "metadata": {},
   "source": [
    "String literals may optionally be prefixed with a letter 'r' or 'R'; such strings are called raw strings and use different rules for interpreting backslash escape sequences. "
   ]
  },
  {
   "cell_type": "code",
   "execution_count": 27,
   "metadata": {
    "collapsed": false
   },
   "outputs": [
    {
     "name": "stdout",
     "output_type": "stream",
     "text": [
      "A path of \tables\n",
      "otebook\n",
      "A path of \\tables\\notebook\n"
     ]
    }
   ],
   "source": [
    "print \"A path of \\tables\\notebook\"\n",
    "print r\"A path of \\tables\\notebook\""
   ]
  },
  {
   "cell_type": "markdown",
   "metadata": {},
   "source": [
    "----"
   ]
  },
  {
   "cell_type": "markdown",
   "metadata": {},
   "source": [
    "A prefix of 'u' or 'U' makes the string a Unicode string. Unicode strings use the Unicode character set as defined by the Unicode Consortium and ISO 10646. A 'u' prefix may be followed by an 'r' prefix."
   ]
  },
  {
   "cell_type": "code",
   "execution_count": 28,
   "metadata": {
    "collapsed": false
   },
   "outputs": [
    {
     "name": "stdout",
     "output_type": "stream",
     "text": [
      "An Unicode string\n",
      "A path of \\tables\\notebook\n"
     ]
    }
   ],
   "source": [
    "print u\"An Unicode string\"\n",
    "print ur\"A path of \\tables\\notebook\""
   ]
  },
  {
   "cell_type": "markdown",
   "metadata": {},
   "source": [
    "----"
   ]
  },
  {
   "cell_type": "markdown",
   "metadata": {},
   "source": [
    "A prefix of 'b' or 'B' is ignored in Python 2; it indicates that the literal should become a bytes literal in Python 3 (e.g. when code is automatically converted with 2to3)."
   ]
  },
  {
   "cell_type": "markdown",
   "metadata": {},
   "source": [
    "----"
   ]
  },
  {
   "cell_type": "markdown",
   "metadata": {},
   "source": [
    "Unless an 'r' or 'R' prefix is present, escape sequences in strings are interpreted according to rules similar to those used by Standard C. Some additional escape sequences, described below, are available in Unicode strings. The recognized escape sequences are:"
   ]
  }
 ],
 "metadata": {
  "kernelspec": {
   "display_name": "Python 2",
   "language": "python",
   "name": "python2"
  },
  "language_info": {
   "codemirror_mode": {
    "name": "ipython",
    "version": 2
   },
   "file_extension": ".py",
   "mimetype": "text/x-python",
   "name": "python",
   "nbconvert_exporter": "python",
   "pygments_lexer": "ipython2",
   "version": "2.7.10"
  }
 },
 "nbformat": 4,
 "nbformat_minor": 0
}
