{
 "cells": [
  {
   "cell_type": "markdown",
   "metadata": {},
   "source": [
    "## Install\n",
    "1. Install EPEL, supervisord is supplied by EPEL, so we must install EPEL first. Reference to [EPEL](epel.ipynb).\n",
    "2. Install supervisord\n",
    "```bash\n",
    "sudo yum install supervisor -y\n",
    "```\n",
    "3. Enable supervisord unit\n",
    "```bash\n",
    "sudo systemctl enable supervisord.service\n",
    "```\n",
    "4. Check supervisord service status\n",
    "```bash\n",
    "sudo systemctl status supervisord.service\n",
    "```"
   ]
  },
  {
   "cell_type": "markdown",
   "metadata": {},
   "source": [
    "## Config\n",
    "\n",
    "Supervisord is configured by:\n",
    "* /etc/supervisord.conf\n",
    "* /etc/supervisord.d/*.ini"
   ]
  },
  {
   "cell_type": "code",
   "execution_count": null,
   "metadata": {
    "collapsed": false,
    "scrolled": true
   },
   "outputs": [],
   "source": [
    "# View /etc/supervisord.conf\n",
    "!cat /etc/supervisord.conf"
   ]
  },
  {
   "cell_type": "markdown",
   "metadata": {},
   "source": [
    "One example of /etc/supervisord.d/*.ini:\n",
    "\n",
    "```\n",
    "[program:jupyter]\n",
    "; the program (relative uses PATH, can take args)\n",
    "command=/home/arthur/Anaconda/bin/jupyter-notebook --config=/home/arthur/.jupyter/jupyter_notebook_config.py\n",
    "process_name=%(program_name)s                          ; process_name expr (default %(program_name)s)\n",
    "numprocs=1                                             ; number of processes copies to start (def 1)\n",
    "directory=/tmp                                         ; directory to cwd to before exec (def no cwd)\n",
    "umask=022                                              ; umask for process (default None)\n",
    "priority=999                                           ; the relative start priority (default 999)\n",
    "autostart=true                                         ; start at supervisord start (default: true)\n",
    "autorestart=true                                       ; retstart at unexpected quit (default: true)\n",
    "startsecs=10                                           ; number of secs prog must stay running (def. 1)\n",
    "startretries=3                                         ; max # of serial start failures (default 3)\n",
    "exitcodes=0,2                                          ; 'expected' exit codes for process (default 0,2)\n",
    "stopsignal=QUIT                                        ; signal used to kill process (default TERM)\n",
    "stopwaitsecs=10                                        ; max num secs to wait b4 SIGKILL (default 10)\n",
    "user=arthur                                            ; setuid to this UNIX account to run the program\n",
    "redirect_stderr=true                                   ; redirect proc stderr to stdout (default false)\n",
    "stdout_logfile=/home/arthur/.jupyter/log/access.log    ; stdout log path, NONE for none; default AUTO\n",
    "stdout_logfile_maxbytes=1MB                            ; max # logfile bytes b4 rotation (default 50MB)\n",
    "stdout_logfile_backups=10                              ; # of stdout logfile backups (default 10)\n",
    "stdout_capture_maxbytes=1MB                            ; number of bytes in 'capturemode' (default 0)\n",
    "stdout_events_enabled=false                            ; emit events on stdout writes (default false)\n",
    "stderr_logfile=/home/arthur/.jupyter/log/error.log     ; stderr log path, NONE for none; default AUTO\n",
    "stderr_logfile_maxbytes=1MB                            ; max # logfile bytes b4 rotation (default 50MB)\n",
    "stderr_logfile_backups=10                              ; # of stderr logfile backups (default 10)\n",
    "stderr_capture_maxbytes=1MB                            ; number of bytes in 'capturemode' (default 0)\n",
    "stderr_events_enabled=false                            ; emit events on stderr writes (default false)\n",
    ";environment=A=1,B=2                                    ; process environment additions (def no adds)\n",
    ";serverurl=AUTO                                         ; override serverurl computation (childutils)\n",
    "\n",
    "```"
   ]
  }
 ],
 "metadata": {
  "kernelspec": {
   "display_name": "Python 2",
   "language": "python",
   "name": "python2"
  },
  "language_info": {
   "codemirror_mode": {
    "name": "ipython",
    "version": 2
   },
   "file_extension": ".py",
   "mimetype": "text/x-python",
   "name": "python",
   "nbconvert_exporter": "python",
   "pygments_lexer": "ipython2",
   "version": "2.7.12"
  }
 },
 "nbformat": 4,
 "nbformat_minor": 0
}
