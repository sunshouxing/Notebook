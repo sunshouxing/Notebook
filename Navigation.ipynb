{
 "cells": [
  {
   "cell_type": "markdown",
   "metadata": {},
   "source": [
    "## Work\n",
    "- [oss](oss.ipynb)\n",
    "\n",
    "---"
   ]
  },
  {
   "cell_type": "markdown",
   "metadata": {},
   "source": [
    "## Study\n",
    "\n",
    "- [HeadFirst OOA & OOD](HeadFirst OOA & OOD.ipynb)\n",
    "\n",
    "---"
   ]
  },
  {
   "cell_type": "markdown",
   "metadata": {},
   "source": [
    "## Python\n",
    "- [Python Encoding](Python Encoding.ipynb)\n",
    "- [String Basic](String.ipynb)\n",
    "- [String Format Examples](String Format Examples.ipynb)\n",
    "- [Python subprocess with Timeout](Python subprocess with Timeout.ipynb)\n",
    "- [Function name magic](function name magic.ipynb)\n",
    "- [Keyword yield](yield demo.ipynb)\n",
    "- [Signal Alarm](alarm.ipynb)\n",
    "\n",
    "---"
   ]
  },
  {
   "cell_type": "markdown",
   "metadata": {},
   "source": [
    "## Colombo\n",
    "\n",
    "- [China ISP](China ISP.ipynb)\n",
    "- [Crawler IP Detect](Crawler IP Detect.ipynb)\n",
    "\n",
    "---"
   ]
  },
  {
   "cell_type": "markdown",
   "metadata": {},
   "source": [
    "## Mongo\n",
    "- [Mongo DB Setup](Mongo DB Setup.ipynb)\n",
    "\n",
    "---"
   ]
  },
  {
   "cell_type": "markdown",
   "metadata": {},
   "source": [
    "## HTTPS Decryption\n",
    "- [Java Reflection](Java Reflection.ipynb)\n",
    "- [JCA](JCA.ipynb)\n",
    "- [Private Key Storage](Private Key Storage.ipynb)\n",
    "- [HTTPS Log Structure](HTTPS Log Structure.ipynb)\n",
    "\n",
    "---"
   ]
  }
 ],
 "metadata": {
  "kernelspec": {
   "display_name": "Python 2",
   "language": "python",
   "name": "python2"
  },
  "language_info": {
   "codemirror_mode": {
    "name": "ipython",
    "version": 2
   },
   "file_extension": ".py",
   "mimetype": "text/x-python",
   "name": "python",
   "nbconvert_exporter": "python",
   "pygments_lexer": "ipython2",
   "version": "2.7.10"
  }
 },
 "nbformat": 4,
 "nbformat_minor": 0
}
