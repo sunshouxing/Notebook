{
 "cells": [
  {
   "cell_type": "markdown",
   "metadata": {},
   "source": [
    "## Table of contents\n",
    "\n",
    "1. [system admin](#system-admin)\n",
    "1. [software](#softwares)\n",
    " * [shadowsocks](#shadowsocks)"
   ]
  },
  {
   "cell_type": "markdown",
   "metadata": {
    "collapsed": true
   },
   "source": [
    "## system admin\n",
    "\n",
    "### How to remove unwanted icons from dash?\n",
    "\n",
    "The icons are stored in **/usr/share/applications/** or **~/.local/share/appliactions/**. Remove the ones you don't need with caution for root powers are not to be toyed with."
   ]
  },
  {
   "cell_type": "markdown",
   "metadata": {},
   "source": [
    "## softwares\n",
    "\n",
    "### [shadowsocks](https://github.com/shadowsocks/shadowsocks/tree/2.9.1)\n",
    "* install\n",
    "```bash\n",
    "sudo apt-get install python-pip\n",
    "sudo pip install shadowsocks\n",
    "```\n",
    "* config\n",
    "edit /etc/shadowsocks.json with the following content\n",
    "```json\n",
    "{\n",
    "\t\"server\":\"sg01-82.ssv7.net\",\n",
    "\t\"server_port\":64190,\n",
    "\t\"local_address\": \"127.0.0.1\",\n",
    "\t\"local_port\":1080,\n",
    "\t\"password\":\"6Lf7mZ9pcXHa\",\n",
    "\t\"timeout\":300,\n",
    "\t\"method\":\"aes-256-cfb\",\n",
    "\t\"fast_open\": false\n",
    "}\n",
    "```\n",
    "* start\n",
    "```bash\n",
    "sudo sslocal -c /etc/shadowsocks.json --user=arthur -d start\n",
    "```\n",
    "* chrome\n",
    " - install [SwitchyOmega.crx](https://chrome.google.com/webstore/detail/proxy-switchyomega/padekgcemlokbadohgkifijomclgjgif)\n",
    " - add a proxy in SwitchyOmega [Protocol: SOCKS5, Server: 127.0.0.1, Port: 1080]\n",
    " - browser the web with the proxy"
   ]
  }
 ],
 "metadata": {
  "kernelspec": {
   "display_name": "Python 2",
   "language": "python",
   "name": "python2"
  },
  "language_info": {
   "codemirror_mode": {
    "name": "ipython",
    "version": 2
   },
   "file_extension": ".py",
   "mimetype": "text/x-python",
   "name": "python",
   "nbconvert_exporter": "python",
   "pygments_lexer": "ipython2",
   "version": "2.7.13"
  }
 },
 "nbformat": 4,
 "nbformat_minor": 2
}
