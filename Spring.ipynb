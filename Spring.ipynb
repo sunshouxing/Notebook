{
 "cells": [
  {
   "cell_type": "markdown",
   "metadata": {},
   "source": [
    "Spring资料：\n",
    "http://spring.io/\n",
    "\n",
    "Spring，依赖注入（IOC）、切面编程（AOP）、容器框架\n",
    "\n",
    "容器：包含并管理 应用对象 的 配置和生命周期\n",
    "框架：将简单的组件配置组合成为复杂的应用\n",
    "1. 半成品\n",
    "2. 封装了特定的处理流程和控制逻辑"
   ]
  },
  {
   "cell_type": "markdown",
   "metadata": {},
   "source": [
    "<img src=\"images/spring-overview.png\" />"
   ]
  }
 ],
 "metadata": {
  "kernelspec": {
   "display_name": "Python 2",
   "language": "python",
   "name": "python2"
  },
  "language_info": {
   "codemirror_mode": {
    "name": "ipython",
    "version": 2
   },
   "file_extension": ".py",
   "mimetype": "text/x-python",
   "name": "python",
   "nbconvert_exporter": "python",
   "pygments_lexer": "ipython2",
   "version": "2.7.10"
  }
 },
 "nbformat": 4,
 "nbformat_minor": 0
}
