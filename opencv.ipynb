{
 "cells": [
  {
   "cell_type": "markdown",
   "metadata": {},
   "source": [
    "## install opencv on Centos\n",
    "\n",
    "```bash\n",
    "sudo yum install numpy opencv*\n",
    "```\n",
    "\n",
    "and check the install result in ipython with:\n",
    "```\n",
    "import cv2\n",
    "print cv2.__version__\n",
    "\n",
    "```"
   ]
  },
  {
   "cell_type": "markdown",
   "metadata": {
    "collapsed": true
   },
   "source": [
    "## install docker\n",
    "\n",
    "http://get.daocloud.io/\n",
    "\n",
    "docker pull centos\n",
    "\n",
    "docker run -it --name centos centos bash\n",
    "\n",
    "mv /etc/yum.repos.d/CentOS-Base.repo /etc/yum.repos.d/CentOS-Base.repo.backup \n",
    "curl http://mirrors.aliyun.com/repo/Centos-7.repo > /etc/yum.repos.d/CentOS-Base.repo\n",
    "curl http://mirrors.aliyun.com/repo/epel-7.repo >  /etc/yum.repos.d/epel.repo\n",
    "yum makecache\n",
    "\n",
    "yum install cmake -y \n",
    "yum install gcc gcc-c++ -y\n",
    "yum install python-devel numpy -y\n",
    "\n",
    "\n",
    "\n"
   ]
  },
  {
   "cell_type": "markdown",
   "metadata": {},
   "source": [
    "### STEP 1: user aliyun mirror\n",
    "```\n",
    "FROM ubuntu:latest \n",
    "\n",
    "COPY pip.conf  sources.list /tmp/\n",
    "RUN rm -f /etc/apt/sources.list && mv /tmp/sources.list /etc/apt/ && mkdir -p /root/.pip/ && mv /tmp/pip.conf /root/.pip/\n",
    "```\n",
    "\n",
    "\n",
    "### STEP 2: install python numpy scipy\n",
    "```\n",
    "FROM ubuntu-aliyun:latest \n",
    "\n",
    "RUN apt-get update && apt-get install -y \\\n",
    "    python \\\n",
    "    python-numpy \\\n",
    "    python-scipy \\\n",
    "&& rm -rf /var/lib/apt/lists/*\n",
    "```\n",
    "\n",
    "### STEP 3: install opencv\n",
    "```\n",
    "FROM ubuntu-python:latest \n",
    "\n",
    "RUN apt-get update && apt-get install -y \\\n",
    "    libopencv-* \\\n",
    "    python-opencv \\\n",
    "&& rm -rf /var/lib/apt/lists/*\n",
    "```\n",
    "\n"
   ]
  }
 ],
 "metadata": {
  "kernelspec": {
   "display_name": "Python 2",
   "language": "python",
   "name": "python2"
  },
  "language_info": {
   "codemirror_mode": {
    "name": "ipython",
    "version": 2
   },
   "file_extension": ".py",
   "mimetype": "text/x-python",
   "name": "python",
   "nbconvert_exporter": "python",
   "pygments_lexer": "ipython2",
   "version": "2.7.12"
  }
 },
 "nbformat": 4,
 "nbformat_minor": 0
}
