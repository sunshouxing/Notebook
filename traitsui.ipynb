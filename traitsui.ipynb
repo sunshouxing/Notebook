{
 "cells": [
  {
   "cell_type": "markdown",
   "metadata": {},
   "source": [
    "<img  src=\"pic/traitsui-object-model.png\"/>"
   ]
  },
  {
   "cell_type": "markdown",
   "metadata": {},
   "source": [
    "## TraitsUI Toolkit Selection\n",
    "\n",
    "The TraitsUI package is designed to be toolkit-independent. Programs that use TraitsUI do not need to explicitly import or call any particular GUI toolkit code unless they need some capability of the toolkit that is not provided by TraitsUI. However, some particular toolkit must be installed on the system in order to actually display GUI windows.\n",
    "\n",
    "TraitsUI uses a separate package, traits.etsconfig, to determine which GUI toolkit to use. This package is also used by other Enthought packages that need GUI capabilities, so that all such packages “agree” on a single GUI toolkit per application. The etsconfig package contains a singleton object, ETSConfig (importable from traits.etsconfig.api), which has a string attribute, toolkit, that signifies the GUI toolkit.\n",
    "\n",
    "The values of ETSConfig.toolkit that are supported by TraitsUI version 5.1 are:\n",
    "\n",
    "* ‘qt4’: PyQt, which provides Python bindings for the Qt framework version 4.\n",
    "* ‘wx’: wxPython, which provides Python bindings for the wxWidgets toolkit.\n",
    "* ‘null’: A do-nothing toolkit, for situations where neither of the other toolkits is installed, but Traits is needed for non-UI purposes.\n",
    "\n",
    "The default behavior of TraitsUI is to search for available toolkit-specific packages in the order listed, and uses the first one it finds. The programmer or the user can override this behavior in any of several ways, in the following order of precedence:\n",
    "\n",
    "1. The program can explicitly set ETSConfig.toolkit. It must do this before importing from any other Enthought Tool Suite component, including traits. For example, at the beginning of a program:\n",
    "```python\n",
    "from traits.etsconfig.api import ETSConfig\n",
    "ETSConfig.toolkit = 'wx'\n",
    "```\n",
    "2. The user can specify a -toolkit flag on the command line of the program.\n",
    "```bash\n",
    "python -toolkit  qt4 main.py\n",
    "```\n",
    "\n",
    "3. The user can define a value for the ETS_TOOLKIT environment variable.\n",
    "```bash\n",
    "# in .bashrc\n",
    "export ETS_TOOLKIT='qt4'\n",
    "```\n",
    "\n",
    "** Warning **\n",
    "The default order of toolkits changed in TraitsUI 5.0 to prefer ‘qt4’ over ‘wx’."
   ]
  },
  {
   "cell_type": "markdown",
   "metadata": {},
   "source": [
    "## 主界面设计\n",
    "\n",
    "### 主界面功能定义\n",
    "1. 数据导入/导出/生成\n",
    " - 数据菜单选择导入/导出数据\n",
    " - FileExplorer右键导入数据\n",
    " - VariableExplorer右键（Button）导出数据\n",
    "2. 数据预览\n",
    " - 展示导入数据\n",
    "3. 工具箱交互\n",
    "\n",
    "4. 通过命令行对数据进行基本查询和修改\n",
    "5. 执行日志\n",
    " - 帮助用户了解数据处理过程 \n",
    "6. 帮助信息\n",
    " - 如何使用该软件\n",
    "7. \n",
    "\n",
    "\n",
    "### 实现主界面功能应有那些元素\n",
    "1. 数据菜单（导入，导出，生成）\n",
    "2. FileExplorer\n",
    "3. Variable Explorer\n",
    "4. Tool box buttons\n",
    "5. Command Line\n",
    "6. Log\n",
    "7. Help Menu\n",
    "\n",
    "### 界面元素如何排布"
   ]
  }
 ],
 "metadata": {
  "kernelspec": {
   "display_name": "Python 2",
   "language": "python",
   "name": "python2"
  },
  "language_info": {
   "codemirror_mode": {
    "name": "ipython",
    "version": 2
   },
   "file_extension": ".py",
   "mimetype": "text/x-python",
   "name": "python",
   "nbconvert_exporter": "python",
   "pygments_lexer": "ipython2",
   "version": "2.7.12"
  },
  "nav_menu": {},
  "toc": {
   "navigate_menu": true,
   "number_sections": true,
   "sideBar": true,
   "threshold": 6,
   "toc_cell": false,
   "toc_section_display": "block",
   "toc_window_display": false
  }
 },
 "nbformat": 4,
 "nbformat_minor": 0
}
