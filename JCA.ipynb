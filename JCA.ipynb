{
 "cells": [
  {
   "cell_type": "markdown",
   "metadata": {},
   "source": [
    "* Certificates are instantiated using a certificate factory. The following is an example of how to instantiate an X.509 certificate: *\n",
    "\n",
    "```java\n",
    " InputStream inStream = null;\n",
    " try {\n",
    "     inStream = new FileInputStream(\"fileName-of-cert\");\n",
    "     CertificateFactory cf = CertificateFactory.getInstance(\"X.509\");\n",
    "     X509Certificate cert = (X509Certificate)cf.generateCertificate(inStream);\n",
    " } finally {\n",
    "     if (inStream != null) {\n",
    "         inStream.close();\n",
    "     }\n",
    " }\n",
    "```"
   ]
  },
  {
   "cell_type": "markdown",
   "metadata": {},
   "source": [
    "\n",
    "```java\n",
    "Signature rsa = Signature.getInstance(\"SHA1withRSA\");\n",
    "/* Initializing the object with a private key */\n",
    "rsa.initSign(privateKey);\n",
    "\n",
    "/* Update and sign the data */\n",
    "rsa.update(\"hello\".getBytes());\n",
    "byte[] sig = rsa.sign();\n",
    "\n",
    "/* Initializing the object with the public key */\n",
    "rsa.initVerify(publicKey);\n",
    "\n",
    "/* Update and verify the data */\n",
    "rsa.update(\"hello\".getBytes());\n",
    "boolean verifies = rsa.verify(sig);\n",
    "System.out.println(\"signature verifies: \" + verifies);\n",
    "```"
   ]
  }
 ],
 "metadata": {
  "kernelspec": {
   "display_name": "Python 2",
   "language": "python",
   "name": "python2"
  },
  "language_info": {
   "codemirror_mode": {
    "name": "ipython",
    "version": 2
   },
   "file_extension": ".py",
   "mimetype": "text/x-python",
   "name": "python",
   "nbconvert_exporter": "python",
   "pygments_lexer": "ipython2",
   "version": "2.7.10"
  }
 },
 "nbformat": 4,
 "nbformat_minor": 0
}
