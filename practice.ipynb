{
 "cells": [
  {
   "cell_type": "code",
   "execution_count": 3,
   "metadata": {
    "collapsed": false
   },
   "outputs": [
    {
     "name": "stdout",
     "output_type": "stream",
     "text": [
      "[1, 2, 3, 4]\n"
     ]
    }
   ],
   "source": [
    "import json\n",
    "\n",
    "origin_array = [1, 2, 3, 4, 5]\n",
    "dumped_array = json.loads(json.dumps(origin_array))\n",
    "\n",
    "dumped_array.remove(5)\n",
    "print dumped_array"
   ]
  },
  {
   "cell_type": "code",
   "execution_count": 17,
   "metadata": {
    "collapsed": false
   },
   "outputs": [
    {
     "name": "stdout",
     "output_type": "stream",
     "text": [
      "{'\\\\u95f5\\\\u6d66\\\\u4e8c\\\\u6865': {'GPS\\\\u6d4b\\\\u7ad9': {'SGP010301': ['SGP010301-DX', 'SGP010301-DY', 'SGP010301-DZ'], 'SGPT101': ['SGPT101-DX', 'SGPT101-DY', 'SGPT101-DZ'], 'SGP0601': ['SGP0601-DX', 'SGP0601-DY', 'SGP0601-DZ'], 'SGP0301': ['SGP0301-DX', 'SGP0301-DY']}}}\n"
     ]
    }
   ],
   "source": [
    "origin_map = {\n",
    "    \"\\u95f5\\u6d66\\u4e8c\\u6865\": {\n",
    "        \"GPS\\u6d4b\\u7ad9\": {\n",
    "            \"SGP010301\": [\n",
    "                \"SGP010301-DX\",\n",
    "                \"SGP010301-DY\",\n",
    "                \"SGP010301-DZ\"\n",
    "            ],\n",
    "            \"SGP0301\": [\n",
    "                \"SGP0301-DX\",\n",
    "                \"SGP0301-DY\",\n",
    "                \"SGP0301-S1\",\n",
    "                \"SGP0301-S2\",\n",
    "                \"SGP0301-S3\",\n",
    "                \"SGP0301-S4\",\n",
    "                \"SGP0301-S5\",\n",
    "                \"SGP0301-S6\",\n",
    "                \"SGP0301-S7\",\n",
    "                \"SGP0301-S8\",\n",
    "                \"SGP0301-S9\"\n",
    "            ],\n",
    "            \"SGP0601\": [\n",
    "                \"SGP0601-DX\",\n",
    "                \"SGP0601-DY\",\n",
    "                \"SGP0601-DZ\",\n",
    "                \"SGP0601-S1\",\n",
    "                \"SGP0601-S2\",\n",
    "                \"SGP0601-S3\",\n",
    "                \"SGP0601-S4\",\n",
    "                \"SGP0601-S5\",\n",
    "                \"SGP0601-S6\",\n",
    "                \"SGP0601-S7\",\n",
    "                \"SGP0601-S8\",\n",
    "                \"SGP0601-S9\"\n",
    "            ],\n",
    "            \"SGPT101\": [\n",
    "                \"SGPT101-DX\",\n",
    "                \"SGPT101-DY\",\n",
    "                \"SGPT101-DZ\",\n",
    "                \"SGPT101-S1\",\n",
    "                \"SGPT101-S2\",\n",
    "                \"SGPT101-S3\",\n",
    "                \"SGPT101-S4\",\n",
    "                \"SGPT101-S5\",\n",
    "                \"SGPT101-S6\",\n",
    "                \"SGPT101-S7\",\n",
    "                \"SGPT101-S8\",\n",
    "                \"SGPT101-S9\"\n",
    "            ],\n",
    "        },\n",
    "    },\n",
    "}\n",
    "\n",
    "for bridge, instruments in origin_map.items():\n",
    "    for instrument, sensors in instruments.items():\n",
    "        for sensor, channels in sensors.items():\n",
    "            for channel in channels[:]:\n",
    "                if channel.find(\"-S\") > 0:\n",
    "                    channels.remove(channel)\n",
    "                    \n",
    "print origin_map"
   ]
  },
  {
   "cell_type": "code",
   "execution_count": 10,
   "metadata": {
    "collapsed": false
   },
   "outputs": [],
   "source": [
    "if \"SGP0301-DZ\".find(\"-S\") > 0:\n",
    "    print \"yes\""
   ]
  },
  {
   "cell_type": "markdown",
   "metadata": {},
   "source": [
    "# Pyramid\n",
    "Toolkit for science data analysis with python\n",
    "\n",
    "## Project directory structure\n",
    "```\n",
    ".\n",
    "├── binary            # binary applications used under windows\n",
    "├── bridges           # bridge details in json format\n",
    "├── common.py\n",
    "├── icons            # icons used by the project\n",
    "├── log.py\n",
    "├── main             # main ui components\n",
    "├── README.md          # this document\n",
    "├── scripts           # useful scripts collected while developing\n",
    "├── SETUP.md          # description about how to setup this project\n",
    "└── toolbox           # tools for data analysis\n",
    "    ├── common\n",
    "    ├── data_reader\n",
    "    ├── downloader\n",
    "    ├── filter\n",
    "    ├── fitter\n",
    "    └── generator\n",
    "```"
   ]
  }
 ],
 "metadata": {
  "kernelspec": {
   "display_name": "Python 2",
   "language": "python",
   "name": "python2"
  },
  "language_info": {
   "codemirror_mode": {
    "name": "ipython",
    "version": 2
   },
   "file_extension": ".py",
   "mimetype": "text/x-python",
   "name": "python",
   "nbconvert_exporter": "python",
   "pygments_lexer": "ipython2",
   "version": "2.7.12"
  }
 },
 "nbformat": 4,
 "nbformat_minor": 0
}
