{
 "cells": [
  {
   "cell_type": "markdown",
   "metadata": {},
   "source": [
    "Initialize Develop Environment\n",
    "\n",
    "* intall cnpm\n",
    "```bash\n",
    "npm install -g cnpm --registry=https://registry.npm.taobao.org\n",
    "```\n",
    "\n",
    "* intall develop command line tools\n",
    "```bash\n",
    "cnpm install -g bower coffee-script generator-angular-fullstack grunt-cli yo\n",
    "```\n",
    "\n",
    "* create project\n",
    "```bash\n",
    "mkdir Browsers\n",
    "yo angular-fullstack\n",
    "# use CTRL+C break the automatic install (the default install use npm)\n",
    "bower install && cnpm install\n",
    "grunt serve\n",
    "```"
   ]
  }
 ],
 "metadata": {
  "kernelspec": {
   "display_name": "Python 2",
   "language": "python",
   "name": "python2"
  },
  "language_info": {
   "codemirror_mode": {
    "name": "ipython",
    "version": 2
   },
   "file_extension": ".py",
   "mimetype": "text/x-python",
   "name": "python",
   "nbconvert_exporter": "python",
   "pygments_lexer": "ipython2",
   "version": "2.7.10"
  }
 },
 "nbformat": 4,
 "nbformat_minor": 0
}
