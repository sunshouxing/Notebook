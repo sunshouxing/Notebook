{
 "cells": [
  {
   "cell_type": "markdown",
   "metadata": {},
   "source": [
    "## [Install](http://get.daocloud.io/)\n",
    "\n",
    "```bash\n",
    "# uninstall old versions first\n",
    "sudo apt remove docker docker-engine\n",
    "\n",
    "# install docker\n",
    "sudo apt install docker.io\n",
    "\n",
    "# start docker service\n",
    "sudo systemctl restart docker.service\n",
    "\n",
    "# add current user to docker group (relogin to active)\n",
    "sudo usermod -aG docker $(whoami)\n",
    "\n",
    "# config docker accelerator [ref: https://www.daocloud.io/mirror#accelerator-doc]\n",
    "curl -sSL https://get.daocloud.io/daotools/set_mirror.sh | sh -s http://57f23a30.m.daocloud.io\n",
    "```"
   ]
  },
  {
   "cell_type": "code",
   "execution_count": null,
   "metadata": {
    "collapsed": true
   },
   "outputs": [],
   "source": [
    "https://battlenet.com.cn/recruit/DJWLBKWSPV?blzcmp=raf-hs&s=HS&m=iOStablet"
   ]
  }
 ],
 "metadata": {
  "kernelspec": {
   "display_name": "Python 2",
   "language": "python",
   "name": "python2"
  },
  "language_info": {
   "codemirror_mode": {
    "name": "ipython",
    "version": 2
   },
   "file_extension": ".py",
   "mimetype": "text/x-python",
   "name": "python",
   "nbconvert_exporter": "python",
   "pygments_lexer": "ipython2",
   "version": "2.7.13"
  }
 },
 "nbformat": 4,
 "nbformat_minor": 2
}
