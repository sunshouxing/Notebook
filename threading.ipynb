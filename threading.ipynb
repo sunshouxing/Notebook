{
 "cells": [
  {
   "cell_type": "code",
   "execution_count": 16,
   "metadata": {
    "collapsed": false
   },
   "outputs": [],
   "source": [
    "import threading\n",
    "import logging\n",
    "import random\n",
    "import time\n",
    "\n",
    "logging.basicConfig(\n",
    "    level=logging.DEBUG,\n",
    "    format=\"(%(threadName)-10s) %(message)s\",\n",
    ")"
   ]
  },
  {
   "cell_type": "code",
   "execution_count": 19,
   "metadata": {
    "collapsed": false
   },
   "outputs": [
    {
     "name": "stdout",
     "output_type": "stream",
     "text": [
      "['Thread-12']\n",
      "['Thread-12', 'Thread-13']\n",
      "['Thread-12', 'Thread-13', 'Thread-14']\n",
      "['Thread-12', 'Thread-14']\n",
      "['Thread-12', 'Thread-14', 'Thread-15']\n",
      "['Thread-12', 'Thread-15']\n",
      "['Thread-15']\n",
      "[]\n"
     ]
    }
   ],
   "source": [
    "# Semaphore -- allowed a fixed number threads to access to resourse concurrently\n",
    "\n",
    "class ActivePool(object):\n",
    "    \n",
    "    def __init__(self):\n",
    "        self.lock = threading.Lock()\n",
    "        self.pool = []\n",
    "        \n",
    "    def make_active(self, name):\n",
    "        with self.lock:\n",
    "            self.pool.append(name)\n",
    "            print self.pool\n",
    "            \n",
    "    def make_inactive(self, name):\n",
    "        with self.lock:\n",
    "            self.pool.remove(name)\n",
    "            print self.pool\n",
    "            \n",
    "def worker(semaphore, pool):\n",
    "    with semaphore:\n",
    "        name = threading.current_thread().name\n",
    "        pool.make_active(name)\n",
    "        time.sleep(random.randint(1, 10))\n",
    "        pool.make_inactive(name)\n",
    "        \n",
    "semaphore = threading.Semaphore(3)\n",
    "pool = ActivePool()\n",
    "        \n",
    "for i in range(1, 5):\n",
    "    thread = threading.Thread(target=worker, args=(semaphore, pool))\n",
    "    thread.start()\n",
    "    "
   ]
  },
  {
   "cell_type": "code",
   "execution_count": 15,
   "metadata": {
    "collapsed": false
   },
   "outputs": [
    {
     "name": "stdout",
     "output_type": "stream",
     "text": [
      "data's value has not been assigned.\n",
      "data's value is 100.\n",
      "data's value has not been assigned.\n",
      "data's value is 82.\n",
      "data's value has not been assigned.\n",
      "data's value is 38.\n"
     ]
    }
   ],
   "source": [
    "# thread specified data -- threading.local()\n",
    "\n",
    "def show_local_value(data):\n",
    "    \"\"\" show thread specified data's value\n",
    "    \"\"\"\n",
    "    try:\n",
    "        value = data.value\n",
    "    except AttributeError:\n",
    "        print \"data's value has not been assigned.\"\n",
    "    else:\n",
    "        print \"data's value is {}.\".format(value)\n",
    "        \n",
    "def work(data):\n",
    "    show_local_value(data)\n",
    "    data.value = random.randint(1, 100)\n",
    "    show_local_value(data)\n",
    "\n",
    "data = threading.local()\n",
    "\n",
    "thread1 = threading.Thread(target=work, args=(data,))\n",
    "thread2 = threading.Thread(target=work, args=(data,))\n",
    "\n",
    "# in main thread\n",
    "show_local_value(data)\n",
    "data.value = 100\n",
    "show_local_value(data)\n",
    "\n",
    "thread1.start()\n",
    "thread2.start()"
   ]
  }
 ],
 "metadata": {
  "kernelspec": {
   "display_name": "Python 2",
   "language": "python",
   "name": "python2"
  },
  "language_info": {
   "codemirror_mode": {
    "name": "ipython",
    "version": 2
   },
   "file_extension": ".py",
   "mimetype": "text/x-python",
   "name": "python",
   "nbconvert_exporter": "python",
   "pygments_lexer": "ipython2",
   "version": "2.7.12"
  }
 },
 "nbformat": 4,
 "nbformat_minor": 0
}
