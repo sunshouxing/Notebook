{
 "cells": [
  {
   "cell_type": "markdown",
   "metadata": {},
   "source": [
    "编写线程安全的代码，实际上就是管理对状态的访问，而且通常都是共享的、可变的状态。\n",
    "\n",
    "同步线程对状态的访问：互斥性，原子性；\n",
    "\n",
    "不共享，不可变；\n",
    "\n",
    "发布：发布一个对象，就是使它能够被当前范围之外的代码所使用。例如：\n",
    "* 将这个对象的引用存储到其他代码可以访问的地方；\n",
    "* 在一个非私有的方法中返回这个对象的引用；\n",
    "* 将这个对象传递到其他类的方法中；\n",
    "\n",
    "逸出：一个对象尚未准备好时就将它发布。"
   ]
  },
  {
   "cell_type": "markdown",
   "metadata": {},
   "source": [
    "* 不要让this引用在构造期间逸出；\n",
    "  * "
   ]
  }
 ],
 "metadata": {
  "kernelspec": {
   "display_name": "Python 2",
   "language": "python",
   "name": "python2"
  },
  "language_info": {
   "codemirror_mode": {
    "name": "ipython",
    "version": 2
   },
   "file_extension": ".py",
   "mimetype": "text/x-python",
   "name": "python",
   "nbconvert_exporter": "python",
   "pygments_lexer": "ipython2",
   "version": "2.7.10"
  }
 },
 "nbformat": 4,
 "nbformat_minor": 0
}
