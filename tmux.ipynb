{
 "cells": [
  {
   "cell_type": "markdown",
   "metadata": {},
   "source": [
    "### session\n",
    "\n",
    "* create new session\n",
    "```\n",
    "tmux new -s <name-of-my-session>\n",
    "or \n",
    "ctrl-a : new -s <name-of-my-session>\n",
    "```\n",
    "\n",
    "* list exist session\n",
    "```\n",
    "tmux list-clients\n",
    "```\n",
    "\n",
    "* attach exist session\n",
    "```\n",
    "tmux attach -t <exist-session-name>\n",
    "or\n",
    "ctrl-a s <session-number>\n",
    "```\n",
    "\n",
    "* rename session\n",
    "```\n",
    "ctrl-a $ \n",
    "```"
   ]
  }
 ],
 "metadata": {
  "kernelspec": {
   "display_name": "Python 2",
   "language": "python",
   "name": "python2"
  },
  "language_info": {
   "codemirror_mode": {
    "name": "ipython",
    "version": 2
   },
   "file_extension": ".py",
   "mimetype": "text/x-python",
   "name": "python",
   "nbconvert_exporter": "python",
   "pygments_lexer": "ipython2",
   "version": "2.7.10"
  }
 },
 "nbformat": 4,
 "nbformat_minor": 0
}
