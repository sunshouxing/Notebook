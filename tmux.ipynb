{
 "cells": [
  {
   "cell_type": "markdown",
   "metadata": {},
   "source": [
    "### config\n",
    "```\n",
    " # remap prefix from 'C-b' to 'C-a'\n",
    " unbind C-b\n",
    " set-option -g prefix C-a\n",
    " bind-key C-a send-prefix\n",
    " \n",
    " # split panes using | and -\n",
    " bind | split-window -h\n",
    " bind - split-window -v\n",
    " unbind '\"'\n",
    " unbind %\n",
    " \n",
    " # switch panes using Alt-[hjkl] without prefix\n",
    " bind -n M-h select-pane -L\n",
    " bind -n M-l select-pane -R\n",
    " bind -n M-k select-pane -U\n",
    " bind -n M-j select-pane -D\n",
    " \n",
    " # switch window with Alt-Left and Alt-Right without prefix\n",
    " bind -n M-Left previous-window\n",
    " bind -n M-Right next-window\n",
    " \n",
    " # using vi mode\n",
    " set-window-option -g mode-keys vi\n",
    "```"
   ]
  },
  {
   "cell_type": "markdown",
   "metadata": {},
   "source": [
    "### session operations\n",
    "\n",
    "* create new session\n",
    "```\n",
    "tmux new -s <name-of-my-session>\n",
    "or \n",
    "ctrl-a : new -s <name-of-my-session>\n",
    "```\n",
    "\n",
    "* list exist session\n",
    "```\n",
    "tmux list-clients\n",
    "```\n",
    "\n",
    "* attach exist session\n",
    "```\n",
    "tmux attach -t <exist-session-name>\n",
    "or\n",
    "ctrl-a s <session-number>\n",
    "```\n",
    "\n",
    "* rename session\n",
    "```\n",
    "ctrl-a $ \n",
    "```"
   ]
  }
 ],
 "metadata": {
  "kernelspec": {
   "display_name": "Python 2",
   "language": "python",
   "name": "python2"
  },
  "language_info": {
   "codemirror_mode": {
    "name": "ipython",
    "version": 2
   },
   "file_extension": ".py",
   "mimetype": "text/x-python",
   "name": "python",
   "nbconvert_exporter": "python",
   "pygments_lexer": "ipython2",
   "version": "2.7.12"
  },
  "nav_menu": {},
  "toc": {
   "navigate_menu": true,
   "number_sections": true,
   "sideBar": true,
   "threshold": 6,
   "toc_cell": false,
   "toc_section_display": "block",
   "toc_window_display": false
  }
 },
 "nbformat": 4,
 "nbformat_minor": 0
}
