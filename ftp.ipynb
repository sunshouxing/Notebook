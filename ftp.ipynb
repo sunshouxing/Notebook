{
 "cells": [
  {
   "cell_type": "markdown",
   "metadata": {},
   "source": [
    "### 安装ftp客户端\n",
    "```\n",
    "$ yum install lftp\n",
    "```\n",
    "\n",
    "### 安装ftp服务器\n",
    "```\n",
    "$ yum install vsftpd\n",
    "```\n",
    "\n",
    "### 启动ftp服务器\n",
    "```\n",
    "$ service vsftpd start\n",
    "```"
   ]
  }
 ],
 "metadata": {
  "kernelspec": {
   "display_name": "Python 2",
   "language": "python",
   "name": "python2"
  },
  "language_info": {
   "codemirror_mode": {
    "name": "ipython",
    "version": 2
   },
   "file_extension": ".py",
   "mimetype": "text/x-python",
   "name": "python",
   "nbconvert_exporter": "python",
   "pygments_lexer": "ipython2",
   "version": "2.7.10"
  }
 },
 "nbformat": 4,
 "nbformat_minor": 0
}
