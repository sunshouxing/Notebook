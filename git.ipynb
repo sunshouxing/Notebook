{
 "cells": [
  {
   "cell_type": "markdown",
   "metadata": {},
   "source": [
    "## git flow\n",
    "<img src=\"pic/git-flow.png\" />"
   ]
  },
  {
   "cell_type": "markdown",
   "metadata": {},
   "source": [
    "## git alias\n",
    "\n",
    "```bash\n",
    "git config --global alias.co checkout\n",
    "git config --global alias.br branch\n",
    "git config --global alias.ci commit\n",
    "git config --global alias.st status\n",
    "git config --global alias.unstage 'reset HEAD --'\n",
    "git config --global alias.last 'log -1 HEAD'\n",
    "```\n",
    "\n",
    "## git autocrlf\n",
    "```bash\n",
    "# on linux\n",
    "git config --global core.autocrlf input\n",
    "\n",
    "# on windows\n",
    "git config --global core.autocrlf true\n",
    "\n",
    "# developing only on windows\n",
    "git config --global core.autocrlf false  \n",
    "```\n",
    "\n",
    "## git ignore\n",
    "```bash\n",
    "# no .a files\n",
    "*.a\n",
    "\n",
    "# but do track lib.a, even though you're ignoring .a files above\n",
    "!lib.a\n",
    "\n",
    "# only ignore the TODO file in the current directory, not subdir/TODO\n",
    "/TODO\n",
    "\n",
    "# ignore all files in the build/ directory\n",
    "build/\n",
    "\n",
    "# ignore doc/notes.txt, but not doc/server/arch.txt\n",
    "doc/*.txt\n",
    "\n",
    "# ignore all .pdf files in the doc/ directory\n",
    "doc/**/*.pdf\n",
    "```\n",
    "\n",
    "## git log\n",
    "```bash\n",
    "git log --pretty=format:\"%h %s\" --graph\n",
    "* 2d3acf9 ignore errors from SIGCHLD on trap\n",
    "*  5e3ee11 Merge branch 'master' of git://github.com/dustin/grit\n",
    "|\\\n",
    "| * 420eac9 Added a method for getting the current branch.\n",
    "* | 30e367c timeout code and tests\n",
    "* | 5a09431 add timeout protection to grit\n",
    "* | e1193f8 support for heads with slashes in them\n",
    "|/\n",
    "* d6016bc require time for xmlschema\n",
    "*  11d191e Merge branch 'defunkt' into local\n",
    "```\n",
    "\n",
    "## git delete remote branch\n",
    "```bash\n",
    "git push origin --delete <branch_name>\n",
    "```"
   ]
  }
 ],
 "metadata": {
  "kernelspec": {
   "display_name": "Python 2",
   "language": "python",
   "name": "python2"
  },
  "language_info": {
   "codemirror_mode": {
    "name": "ipython",
    "version": 2
   },
   "file_extension": ".py",
   "mimetype": "text/x-python",
   "name": "python",
   "nbconvert_exporter": "python",
   "pygments_lexer": "ipython2",
   "version": "2.7.12"
  }
 },
 "nbformat": 4,
 "nbformat_minor": 0
}
