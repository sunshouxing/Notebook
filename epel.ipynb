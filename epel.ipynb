{
 "cells": [
  {
   "cell_type": "markdown",
   "metadata": {},
   "source": [
    "EPEL: Extra Packages for Enterprise Linux\n",
    "suite for: RHEL，Centos，Scientific Linux"
   ]
  },
  {
   "cell_type": "code",
   "execution_count": 1,
   "metadata": {
    "collapsed": false
   },
   "outputs": [
    {
     "name": "stdout",
     "output_type": "stream",
     "text": [
      "CentOS release 6.6 (Final)\r\n"
     ]
    }
   ],
   "source": [
    "#确认系统版本\n",
    "!cat /etc/redhat-release"
   ]
  },
  {
   "cell_type": "code",
   "execution_count": null,
   "metadata": {
    "collapsed": true
   },
   "outputs": [],
   "source": [
    "# install epel repository\n",
    "!wget -O /etc/yum.repos.d/epel.repo http://mirrors.aliyun.com/repo/epel-6.repo"
   ]
  },
  {
   "cell_type": "code",
   "execution_count": 5,
   "metadata": {
    "collapsed": false
   },
   "outputs": [
    {
     "name": "stdout",
     "output_type": "stream",
     "text": [
      "Loaded plugins: fastestmirror\n",
      "Loading mirror speeds from cached hostfile\n",
      " * base: mirrors.aliyun.com\n",
      " * extras: mirrors.aliyun.com\n",
      " * updates: mirrors.aliyun.com\n",
      "repo id               repo name                                           status\n",
      "base                  CentOS-6 - Base - mirrors.aliyun.com                6575\n",
      "extras                CentOS-6 - Extras - mirrors.aliyun.com                44\n",
      "updates               CentOS-6 - Updates - mirrors.aliyun.com              470\n",
      "vz-base               vz-base                                                3\n",
      "vz-updates            vz-updates                                             8\n",
      "repolist: 7100\n"
     ]
    }
   ],
   "source": [
    "# list yum repositories\n",
    "!yum repolist"
   ]
  },
  {
   "cell_type": "code",
   "execution_count": null,
   "metadata": {
    "collapsed": true
   },
   "outputs": [],
   "source": [
    "# list all available softwares in epel\n",
    "yum --disablerepo=\"*\" --enablerepo=\"epel\" list available"
   ]
  },
  {
   "cell_type": "code",
   "execution_count": null,
   "metadata": {
    "collapsed": true
   },
   "outputs": [],
   "source": [
    "# search specify package in epel\n",
    "yum --disablerepo=\"*\" --enablerepo=\"epel\" search nginx"
   ]
  },
  {
   "cell_type": "code",
   "execution_count": null,
   "metadata": {
    "collapsed": true
   },
   "outputs": [],
   "source": [
    "# install specify package with epel\n",
    "yum --disablerepo=\"*\" --enablerepo=\"epel\" install nginx"
   ]
  },
  {
   "cell_type": "markdown",
   "metadata": {},
   "source": [
    "Get yum to install a specific package version\n",
    "\n",
    "```\n",
    "[root]# yum --version\n",
    "3.2.22\n",
    "\n",
    "[root]# yum info yum-allowdowngrade\n",
    "Installed Packages\n",
    "Name : yum-allowdowngrade\n",
    "Arch : noarch\n",
    "Version : 1.1.16\n",
    "Release : 14.el5.centos.1\n",
    "Size : 3.4 k\n",
    "Repo : installed\n",
    "Summary : Yum plugin to enable manual downgrading of packages\n",
    "URL : http://linux.duke.edu/yum/download/yum-utils/\n",
    "License : GPLv2+\n",
    "Description: This plugin adds a --allow-downgrade flag to yum to make it possible to\n",
    ": manually downgrade packages to specific versions.\n",
    "\n",
    "\n",
    "2) list available packages\n",
    "\n",
    "[root]# yum --showduplicates list facter-plugins\n",
    "Installed Packages\n",
    "facter-plugins.noarch 0.5.2-1 installed \n",
    "Available Packages\n",
    "facter-plugins.noarch 0.3.0-1 n4repopublic-noarch\n",
    "facter-plugins.noarch 0.4.0-1 n4repopublic-noarch\n",
    "facter-plugins.noarch 0.5.0-1 n4repopublic-noarch\n",
    "facter-plugins.noarch 0.5.1-1 n4repopublic-noarch\n",
    "facter-plugins.noarch 0.5.2-1 n4repopublic-noarch\n",
    "\n",
    "\n",
    "3) Now try to downgrade\n",
    "\n",
    "[root]# yum --allow-downgrade install facter-plugins-0.4.0-1\n",
    "Setting up Install Process\n",
    "Package matching facter-plugins-0.4.0-1.noarch already installed. Checking for update.\n",
    "Nothing to do\n",
    "\n",
    "\n",
    "4) Try again\n",
    "\n",
    "[root]# yum --allow-downgrade update facter-plugins-0.4.0-1\n",
    "Setting up Update Process\n",
    "Package(s) facter-plugins-0.4.0-1 available, but not installed.\n",
    "No Packages marked for Update\n",
    "```"
   ]
  }
 ],
 "metadata": {
  "kernelspec": {
   "display_name": "Python 2",
   "language": "python",
   "name": "python2"
  },
  "language_info": {
   "codemirror_mode": {
    "name": "ipython",
    "version": 2
   },
   "file_extension": ".py",
   "mimetype": "text/x-python",
   "name": "python",
   "nbconvert_exporter": "python",
   "pygments_lexer": "ipython2",
   "version": "2.7.12"
  }
 },
 "nbformat": 4,
 "nbformat_minor": 0
}
