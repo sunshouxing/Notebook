{
 "cells": [
  {
   "cell_type": "markdown",
   "metadata": {},
   "source": [
    "## alarm\n",
    "**signal.alarm(time)**\n",
    "\n",
    "> If time is non-zero, this function requests that a **SIGALRM** signal be sent to the process in time seconds. Any previously scheduled alarm is canceled (only one alarm can be scheduled at any time). The returned value is then the number of seconds before any previously set alarm was to have been delivered. If time is zero, no alarm is scheduled, and any scheduled alarm is canceled. If the return value is zero, no alarm is currently scheduled. (See the Unix man page alarm(2).) Availability: Unix.\n",
    "\n",
    "*Cite from [python docs](https://docs.python.org/2/library/signal.html#signal.alarm)*\n",
    "\n",
    "Here is a minimal example program. It uses the alarm() function to limit the time spent waiting to sleep; this is useful if you are worry about sleeping too long. The solution is to set a 5-second alarm before sleeping; if you sleeps too long, the alarm signal will be sent, and the handler raises an exception."
   ]
  },
  {
   "cell_type": "code",
   "execution_count": 1,
   "metadata": {
    "code_folding": [],
    "collapsed": false
   },
   "outputs": [
    {
     "name": "stdout",
     "output_type": "stream",
     "text": [
      "Signal handler called with signal 14\n",
      "It's time to get up.\n"
     ]
    }
   ],
   "source": [
    "import signal, os\n",
    "import time\n",
    "\n",
    "class Alarm(Exception):\n",
    "    pass\n",
    "\n",
    "def handler(signum, frame):\n",
    "    print 'Signal handler called with signal', signum\n",
    "    raise Alarm\n",
    "\n",
    "# Set the signal handler and a 5-second alarm\n",
    "signal.signal(signal.SIGALRM, handler)\n",
    "signal.alarm(3)\n",
    "\n",
    "try:\n",
    "    # Sleep longer than the alarm\n",
    "    time.sleep(5)\n",
    "except Alarm as error:\n",
    "    print \"It's time to get up.\"\n",
    "else:\n",
    "    # Disable the alarm\n",
    "    signal.alarm(0)\n",
    "    print \"Wake up before the alarm.\""
   ]
  },
  {
   "cell_type": "markdown",
   "metadata": {},
   "source": [
    "You can also change the sleep time shorter than the alarm time to see what happens."
   ]
  }
 ],
 "metadata": {
  "kernelspec": {
   "display_name": "Python 2",
   "language": "python",
   "name": "python2"
  },
  "language_info": {
   "codemirror_mode": {
    "name": "ipython",
    "version": 2
   },
   "file_extension": ".py",
   "mimetype": "text/x-python",
   "name": "python",
   "nbconvert_exporter": "python",
   "pygments_lexer": "ipython2",
   "version": "2.7.12"
  },
  "nav_menu": {},
  "toc": {
   "navigate_menu": true,
   "number_sections": true,
   "sideBar": true,
   "threshold": 6,
   "toc_cell": false,
   "toc_section_display": "block",
   "toc_window_display": false
  }
 },
 "nbformat": 4,
 "nbformat_minor": 0
}
