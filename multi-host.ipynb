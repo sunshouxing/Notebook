{
 "cells": [
  {
   "cell_type": "markdown",
   "metadata": {},
   "source": [
    "*This shell script allow [Crawler IP Detect](Crawler IP Detect.ipynb) to do host query concurrently*\n",
    "\n",
    "```bash\n",
    "#!/bin/sh\n",
    "\n",
    "THREAD_NUM=100\n",
    "\n",
    "# create a PIPE and associate it with file descriptor 9\n",
    "mkfifo PIPE\n",
    "exec 9<>PIPE\n",
    "\n",
    "# echo THREAD_NUM \"\\n\"s to the PIPE to allow THREAD_NUM processes to run initially\n",
    "for ((i=0; i<$THREAD_NUM; i++))\n",
    "do\n",
    "    echo -ne \"\\n\" 1>&9\n",
    "done\n",
    "\n",
    "if [ $# != 2 ] ;then\n",
    "    echo \"The parameters you enter is not correct!\"\n",
    "    exit -1\n",
    "fi\n",
    "\n",
    "while read ip \n",
    "do\n",
    "{\n",
    "    # acquire a \"\\n\" from PIPE to run. \n",
    "    # if no \"\\n\" available in the PIPE the process will be blocked permanetly\n",
    "    read -u 9\n",
    "    {\n",
    "        output=$(host $ip)\n",
    "        echo $ip, $output\n",
    "\n",
    "        # release a \"\\n\" to allow another process to run\n",
    "        echo -ne \"\\n\" 1>&9\n",
    "    }&\n",
    "}\n",
    "done < $1 >$2\n",
    "\n",
    "# wait until all subprocesses to finish\n",
    "wait; echo \"Finished.\"\n",
    "\n",
    "rm -f PIPE\n",
    "```"
   ]
  }
 ],
 "metadata": {
  "kernelspec": {
   "display_name": "Python 2",
   "language": "python",
   "name": "python2"
  },
  "language_info": {
   "codemirror_mode": {
    "name": "ipython",
    "version": 2
   },
   "file_extension": ".py",
   "mimetype": "text/x-python",
   "name": "python",
   "nbconvert_exporter": "python",
   "pygments_lexer": "ipython2",
   "version": "2.7.10"
  }
 },
 "nbformat": 4,
 "nbformat_minor": 0
}
