{
 "cells": [
  {
   "cell_type": "markdown",
   "metadata": {},
   "source": [
    "## 规划\n",
    "\n",
    "    - mongos\n",
    "     * 172.23.121.3:27027\n",
    "    - config\n",
    "     * 172.23.121.3:27026\n",
    "     * 172.23.121.4:27026\n",
    "     * 172.23.121.5:27026\n",
    "    - master\n",
    "     * 172.23.121.5:27025\n",
    "    - slaver\n",
    "     * 172.23.121.4:27025\n",
    "    - arbiter\n",
    "     * 172.23.121.3:27025"
   ]
  },
  {
   "cell_type": "markdown",
   "metadata": {},
   "source": [
    "## 配置"
   ]
  },
  {
   "cell_type": "markdown",
   "metadata": {},
   "source": [
    "#### master.conf \n",
    "\n",
    "    dbpath=/home/admin/var/lib/mongodb/master\n",
    "    logpath=/home/admin/var/log/master.log\n",
    "    pidfilepath=/home/admin/var/run/master.pid\n",
    "    directoryperdb=true\n",
    "    logappend=true\n",
    "    replSet=SAF\n",
    "    bind_ip=172.23.121.5\n",
    "    port=27025\n",
    "    oplogSize=10000\n",
    "    fork=true\n",
    "    noprealloc=true"
   ]
  },
  {
   "cell_type": "markdown",
   "metadata": {},
   "source": [
    "#### slaver.conf\n",
    "\n",
    "    dbpath=/home/admin/var/lib/mongodb/slaver\n",
    "    logpath=/home/admin/var/log/slaver.log\n",
    "    pidfilepath=/home/admin/var/run/slaver.pid\n",
    "    directoryperdb=true\n",
    "    logappend=true\n",
    "    replSet=SAF\n",
    "    bind_ip=172.23.121.4\n",
    "    port=27025\n",
    "    oplogSize=10000\n",
    "    fork=true\n",
    "    noprealloc=true"
   ]
  },
  {
   "cell_type": "markdown",
   "metadata": {},
   "source": [
    "#### arbiter.conf\n",
    "\n",
    "    dbpath=/home/admin/var/lib/mongodb/arbiter\n",
    "    logpath=/home/admin/var/log/arbiter.log\n",
    "    pidfilepath=/home/admin/var/run/arbiter.pid\n",
    "    directoryperdb=true\n",
    "    logappend=true\n",
    "    replSet=SAF\n",
    "    bind_ip=172.23.121.3\n",
    "    port=27025\n",
    "    oplogSize=10000\n",
    "    fork=true\n",
    "    noprealloc=true"
   ]
  },
  {
   "cell_type": "markdown",
   "metadata": {},
   "source": [
    "#### config.conf\n",
    "\n",
    "    dbpath=/home/admin/var/lib/mongodb/config\n",
    "    logpath=/home/admin/var/log/config.log\n",
    "    pidfilepath=/home/admin/var/run/config.pid\n",
    "    configsvr=true\n",
    "    directoryperdb=true\n",
    "    logappend=true\n",
    "    bind_ip=172.23.121.4\n",
    "    port=27026\n",
    "    oplogSize=10000\n",
    "    fork=true"
   ]
  },
  {
   "cell_type": "markdown",
   "metadata": {},
   "source": [
    "#### mongos.conf\n",
    "\n",
    "    logpath=/home/admin/var/log/mongos.log\n",
    "    pidfilepath=/home/admin/var/run/mongos.pid\n",
    "    configdb=172.23.121.3:27026,172.23.121.4:27026,172.23.121.5:27026\n",
    "    logappend=true\n",
    "    bind_ip=172.23.121.3\n",
    "    port=27027\n",
    "    fork=true"
   ]
  },
  {
   "cell_type": "markdown",
   "metadata": {},
   "source": [
    "## 启动副本集"
   ]
  },
  {
   "cell_type": "markdown",
   "metadata": {},
   "source": [
    "#### 1.在master，slaver，arbiter对应的机器上以下面命令启动mongod\n",
    "    mongod -f master.conf\n",
    "    mongod -f slaver.conf\n",
    "    mongod -f arbiter.conf\n",
    "\n",
    "#### 2.登陆到其中任意一台机器的mongo，运行以下命令：\n",
    "```javascript\n",
    "use admin\n",
    "\n",
    "config={ \"_id\" : \"SAF\", \"members\" : [ { \"_id\" : 2, \"host\" : \"172.23.121.5:27025\", \"priority\" : 2 }, { \"_id\" : 1, \"host\" : \"172.23.121.4:27025\", \"priority\" : 1 }, { \"_id\" : 0, \"host\" : \"172.23.121.3:27025\", \"arbiterOnly\" : true } ]  }\n",
    "\n",
    "rs.initiate(config)\n",
    "```\n",
    "\n",
    "    说明：config可以是任意合法的变量名，但最好不要是mongodb的关键字。最外层的_id表示replica set的名字，members里包含的是所有节点的地址以及优先级。优先级最高的即成为master节点，即这里的172.23.121.5:27025。特别注意的是，对于arbiter节点，需要有个特别的配置arbiterOnly:true。这个千万不能少了，不然主备模式就不能生效。\n",
    "\n",
    "#### 3.检验配置是否生效\n",
    "    使用rs.status()检查配置是否生效，如生效应该显示信息如下：\n",
    "```javascript\n",
    "rs.status()\n",
    "{\n",
    "\t\"set\" : \"SAF\",\n",
    "\t\"date\" : ISODate(\"2014-12-05T08:06:22Z\"),\n",
    "\t\"myState\" : 7,\n",
    "\t\"members\" : [\n",
    "\t\t{\n",
    "\t\t\t\"_id\" : 0,\n",
    "\t\t\t\"name\" : \"172.23.121.3:27025\",\n",
    "\t\t\t\"health\" : 1,\n",
    "\t\t\t\"state\" : 7,\n",
    "\t\t\t\"stateStr\" : \"ARBITER\",\n",
    "\t\t\t\"uptime\" : 7007657,\n",
    "\t\t\t\"self\" : true\n",
    "\t\t},\n",
    "\t\t{\n",
    "\t\t\t\"_id\" : 1,\n",
    "\t\t\t\"name\" : \"172.23.121.4:27025\",\n",
    "\t\t\t\"health\" : 1,\n",
    "\t\t\t\"state\" : 2,\n",
    "\t\t\t\"stateStr\" : \"SECONDARY\",\n",
    "\t\t\t\"uptime\" : 7007649,\n",
    "\t\t\t\"optime\" : Timestamp(1417766780, 36),\n",
    "\t\t\t\"optimeDate\" : ISODate(\"2014-12-05T08:06:20Z\"),\n",
    "\t\t\t\"lastHeartbeat\" : ISODate(\"2014-12-05T08:06:21Z\"),\n",
    "\t\t\t\"lastHeartbeatRecv\" : ISODate(\"2014-12-05T08:06:22Z\"),\n",
    "\t\t\t\"pingMs\" : 0,\n",
    "\t\t\t\"syncingTo\" : \"172.23.121.5:27025\"\n",
    "\t\t},\n",
    "\t\t{\n",
    "\t\t\t\"_id\" : 2,\n",
    "\t\t\t\"name\" : \"172.23.121.5:27025\",\n",
    "\t\t\t\"health\" : 1,\n",
    "\t\t\t\"state\" : 1,\n",
    "\t\t\t\"stateStr\" : \"PRIMARY\",\n",
    "\t\t\t\"uptime\" : 7007649,\n",
    "\t\t\t\"optime\" : Timestamp(1417766739, 7),\n",
    "\t\t\t\"optimeDate\" : ISODate(\"2014-12-05T08:05:39Z\"),\n",
    "\t\t\t\"lastHeartbeat\" : ISODate(\"2014-12-05T08:06:20Z\"),\n",
    "\t\t\t\"lastHeartbeatRecv\" : ISODate(\"2014-12-05T08:06:21Z\"),\n",
    "\t\t\t\"pingMs\" : 0\n",
    "\t\t}\n",
    "\t],\n",
    "\t\"ok\" : 1\n",
    "}\n",
    "```"
   ]
  },
  {
   "cell_type": "markdown",
   "metadata": {},
   "source": [
    "## 启动mongos"
   ]
  },
  {
   "cell_type": "markdown",
   "metadata": {},
   "source": [
    "#### 1. 启动mongos和config server\n",
    "    mongod -f config.conf (在三台config server上启动)\n",
    "    mongos -f mongos.conf\n",
    "#### 2. 配置mongos\n",
    "```javascript\n",
    "$ mongo 172.23.121.3:27027   #这里必须连接路由节点\n",
    "\n",
    "> sh.addShard(\"SAF/172.23.121.5:27025\")      # SAF表示replica set的名字,当把主节点添加到shard以后，mongos会自动找到set里的主，备，决策节点\n",
    "> db.runCommand({enableSharding:\"Storm\"})    # \"Strom\" 是数据库名\n",
    "> db.runCommand({shardCollection: \"Storm.all\",key:{\"__avpSessionId\":1}}) # 可选\n",
    "```\n",
    "    说明：第一个命令很容易理解，第二个命令是对需要进行Sharding的数据库进行配置，第三个命令是对需要进行Sharding的Collection进行配置，这里的\"all\"即为Collection的名字。另外还有个key，这个是比较关键的东西，对于查询效率会有很大的影响，具体可以查看Shard Key Overview\n",
    "    \n",
    "#### 3. 检验配置是否生效\n",
    "\n",
    "```javascript\n",
    "$ mongo 172.23.121.3:27027\n",
    "\n",
    "> sh.status()\n",
    "--- Sharding Status --- \n",
    "  sharding version: {\n",
    "\t\"_id\" : 1,\n",
    "\t\"version\" : 3,\n",
    "\t\"minCompatibleVersion\" : 3,\n",
    "\t\"currentVersion\" : 4,\n",
    "\t\"clusterId\" : ObjectId(\"534cca08d22d6b3631f701ad\")\n",
    "}\n",
    "  shards:\n",
    "\t{  \"_id\" : \"SAF\",  \"host\" : \"SAF/172.23.121.4:27025,172.23.121.5:27025\" }\n",
    "  databases:\n",
    "\t{  \"_id\" : \"admin\",  \"partitioned\" : false,  \"primary\" : \"config\" }\n",
    "\t{  \"_id\" : \"test\",  \"partitioned\" : false,  \"primary\" : \"SAF\" }\n",
    "\t{  \"_id\" : \"Storm\",  \"partitioned\" : false,  \"primary\" : \"SAF\" }\n",
    "\t{  \"_id\" : \"dnsStorm\",  \"partitioned\" : false,  \"primary\" : \"SAF\" }\n",
    "```\n",
    "\n",
    "    到这里Sharding也已经搭建完成了，以上只是最简单的搭建方式，其中某些配置仍然使用的是默认配置。如果设置不当，会导致效率异常低下，所以建议大家多看看官方文档再进行默认配置的修改。"
   ]
  },
  {
   "cell_type": "markdown",
   "metadata": {},
   "source": [
    "## 创建索引\n",
    "```jsp\n",
    "> db.all.ensureIndex({sec:-1});\n",
    "> db.idc.ensureIndex({sec:-1, idc:1});\n",
    "> db.isp.ensureIndex({sec:-1, isp:1});\n",
    "> db.reg.ensureIndex({sec:-1, reg:1});\n",
    "> db.reg.idc.ensureIndex({sec:-1, reg:1, idc:1});\n",
    "> db.reg.isp.ensureIndex({sec:-1, reg:1, isp:1});\n",
    "```"
   ]
  }
 ],
 "metadata": {
  "kernelspec": {
   "display_name": "Python 2",
   "language": "python",
   "name": "python2"
  },
  "language_info": {
   "codemirror_mode": {
    "name": "ipython",
    "version": 2
   },
   "file_extension": ".py",
   "mimetype": "text/x-python",
   "name": "python",
   "nbconvert_exporter": "python",
   "pygments_lexer": "ipython2",
   "version": "2.7.10"
  }
 },
 "nbformat": 4,
 "nbformat_minor": 0
}
