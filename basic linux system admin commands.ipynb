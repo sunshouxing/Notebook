{
 "cells": [
  {
   "cell_type": "code",
   "execution_count": null,
   "metadata": {
    "collapsed": true
   },
   "outputs": [],
   "source": [
    "[root@yongsen ~] # uname -a # 查看内核/操作系统/CPU信息的linux系统信息命令\n",
    "[root@yongsen ~] # head -n 1 /etc/issue # 查看操作系统版本，是数字1不是字母L\n",
    "[root@yongsen ~] # cat /proc/cpuinfo # 查看CPU信息的linux系统信息命令\n",
    "[root@yongsen ~] # hostname # 查看计算机名的linux系统信息命令\n",
    "[root@yongsen ~] # lspci -tv # 列出所有PCI设备\n",
    "[root@yongsen ~] # lsusb -tv # 列出所有USB设备的linux系统信息命令\n",
    "[root@yongsen ~] # lsmod # 列出加载的内核模块\n",
    "[root@yongsen ~] # env # 查看环境变量资源\n",
    "[root@yongsen ~] # free -m # 查看内存使用量和交换区使用量\n",
    "[root@yongsen ~] # df -h # 查看各分区使用情况\n",
    "[root@yongsen ~] # du -sh # 查看指定目录的大小\n",
    "[root@yongsen ~] # grep MemTotal /proc/meminfo # 查看内存总量\n",
    "[root@yongsen ~] # grep MemFree /proc/meminfo # 查看空闲内存量\n",
    "[root@yongsen ~] # uptime # 查看系统运行时间、用户数、负载\n",
    "[root@yongsen ~] # cat /proc/loadavg # 查看系统负载磁盘和分区\n",
    "[root@yongsen ~] # mount | column -t # 查看挂接的分区状态\n",
    "[root@yongsen ~] # fdisk -l # 查看所有分区\n",
    "[root@yongsen ~] # swapon -s # 查看所有交换分区\n",
    "[root@yongsen ~] # hdparm -i /dev/hda # 查看磁盘参数(仅适用于IDE设备)\n",
    "[root@yongsen ~] # dmesg | grep IDE # 查看启动时IDE设备检测状况网络\n",
    "[root@yongsen ~] # ifconfig # 查看所有网络接口的属性\n",
    "[root@yongsen ~] # iptables -L # 查看防火墙设置\n",
    "[root@yongsen ~] # route -n # 查看路由表\n",
    "[root@yongsen ~] # netstat -lntp # 查看所有监听端口\n",
    "[root@yongsen ~] # netstat -antp # 查看所有已经建立的连接\n",
    "[root@yongsen ~] # netstat -s # 查看网络统计信息进程\n",
    "[root@yongsen ~] # ps -ef # 查看所有进程\n",
    "[root@yongsen ~] # top # 实时显示进程状态用户\n",
    "[root@yongsen ~] # w # 查看活动用户\n",
    "[root@yongsen ~] # id # 查看指定用户信息\n",
    "[root@yongsen ~] # last # 查看用户登录日志\n",
    "[root@yongsen ~] # cut -d: -f1 /etc/passwd # 查看系统所有用户\n",
    "[root@yongsen ~] # cut -d: -f1 /etc/group # 查看系统所有组\n",
    "[root@yongsen ~] # crontab -l # 查看当前用户的计划任务服务\n",
    "[root@yongsen ~] # chkconfig –list # 列出所有系统服务\n",
    "[root@yongsen ~] # chkconfig –list | grep on # 列出所有启动的系统服务程序\n",
    "[root@yongsen ~] # rpm -qa # 查看所有安装的软件包\n",
    "[root@yongsen ~] # cat /proc/cpuinfo # 查看CPU相关参数的linux系统命令\n",
    "[root@yongsen ~] # cat /proc/partitions # 查看linux硬盘和分区信息的系统信息命令\n",
    "[root@yongsen ~] # cat /proc/meminfo # 查看linux系统内存信息的linux系统命令\n",
    "[root@yongsen ~] # cat /proc/version # 查看版本，类似uname -r\n",
    "[root@yongsen ~] # cat /proc/ioports # 查看设备io端口\n",
    "[root@yongsen ~] # cat /proc/interrupts # 查看中断\n",
    "[root@yongsen ~] # cat /proc/pci # 查看pci设备的信息\n",
    "[root@yongsen ~] # cat /proc/swaps # 查看所有swap分区的信息"
   ]
  }
 ],
 "metadata": {
  "kernelspec": {
   "display_name": "Python 2",
   "language": "python",
   "name": "python2"
  },
  "language_info": {
   "codemirror_mode": {
    "name": "ipython",
    "version": 2
   },
   "file_extension": ".py",
   "mimetype": "text/x-python",
   "name": "python",
   "nbconvert_exporter": "python",
   "pygments_lexer": "ipython2",
   "version": "2.7.12"
  },
  "nav_menu": {},
  "toc": {
   "navigate_menu": true,
   "number_sections": true,
   "sideBar": true,
   "threshold": 6,
   "toc_cell": false,
   "toc_section_display": "block",
   "toc_window_display": false
  }
 },
 "nbformat": 4,
 "nbformat_minor": 0
}
