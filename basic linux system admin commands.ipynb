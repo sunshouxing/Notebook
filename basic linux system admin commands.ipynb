{
 "cells": [
  {
   "cell_type": "code",
   "execution_count": null,
   "metadata": {
    "collapsed": true
   },
   "outputs": [],
   "source": [
    "[root@yongsen ~] # uname -a # 查看内核/操作系统/CPU信息的linux系统信息命令\n",
    "[root@yongsen ~] # head -n 1 /etc/issue # 查看操作系统版本，是数字1不是字母L\n",
    "[root@yongsen ~] # cat /proc/cpuinfo # 查看CPU信息的linux系统信息命令\n",
    "[root@yongsen ~] # hostname # 查看计算机名的linux系统信息命令\n",
    "[root@yongsen ~] # lspci -tv # 列出所有PCI设备\n",
    "[root@yongsen ~] # lsusb -tv # 列出所有USB设备的linux系统信息命令\n",
    "[root@yongsen ~] # lsmod # 列出加载的内核模块\n",
    "[root@yongsen ~] # env # 查看环境变量资源\n",
    "[root@yongsen ~] # free -m # 查看内存使用量和交换区使用量\n",
    "[root@yongsen ~] # df -h # 查看各分区使用情况\n",
    "[root@yongsen ~] # du -sh # 查看指定目录的大小\n",
    "[root@yongsen ~] # grep MemTotal /proc/meminfo # 查看内存总量\n",
    "[root@yongsen ~] # grep MemFree /proc/meminfo # 查看空闲内存量\n",
    "[root@yongsen ~] # uptime # 查看系统运行时间、用户数、负载\n",
    "[root@yongsen ~] # cat /proc/loadavg # 查看系统负载磁盘和分区\n",
    "[root@yongsen ~] # mount | column -t # 查看挂接的分区状态\n",
    "[root@yongsen ~] # fdisk -l # 查看所有分区\n",
    "[root@yongsen ~] # swapon -s # 查看所有交换分区\n",
    "[root@yongsen ~] # hdparm -i /dev/hda # 查看磁盘参数(仅适用于IDE设备)\n",
    "[root@yongsen ~] # dmesg | grep IDE # 查看启动时IDE设备检测状况网络\n",
    "[root@yongsen ~] # ifconfig # 查看所有网络接口的属性\n",
    "[root@yongsen ~] # iptables -L # 查看防火墙设置\n",
    "[root@yongsen ~] # route -n # 查看路由表\n",
    "[root@yongsen ~] # netstat -lntp # 查看所有监听端口\n",
    "[root@yongsen ~] # netstat -antp # 查看所有已经建立的连接\n",
    "[root@yongsen ~] # netstat -s # 查看网络统计信息进程\n",
    "[root@yongsen ~] # ps -ef # 查看所有进程\n",
    "[root@yongsen ~] # top # 实时显示进程状态用户\n",
    "[root@yongsen ~] # w # 查看活动用户\n",
    "[root@yongsen ~] # id # 查看指定用户信息\n",
    "[root@yongsen ~] # last # 查看用户登录日志\n",
    "[root@yongsen ~] # cut -d: -f1 /etc/passwd # 查看系统所有用户\n",
    "[root@yongsen ~] # cut -d: -f1 /etc/group # 查看系统所有组\n",
    "[root@yongsen ~] # crontab -l # 查看当前用户的计划任务服务\n",
    "[root@yongsen ~] # chkconfig –list # 列出所有系统服务\n",
    "[root@yongsen ~] # chkconfig –list | grep on # 列出所有启动的系统服务程序\n",
    "[root@yongsen ~] # rpm -qa # 查看所有安装的软件包\n",
    "[root@yongsen ~] # cat /proc/cpuinfo # 查看CPU相关参数的linux系统命令\n",
    "[root@yongsen ~] # cat /proc/partitions # 查看linux硬盘和分区信息的系统信息命令\n",
    "[root@yongsen ~] # cat /proc/version # 查看版本，类似uname -r\n",
    "[root@yongsen ~] # cat /proc/ioports # 查看设备io端口\n",
    "[root@yongsen ~] # cat /proc/interrupts # 查看中断\n",
    "[root@yongsen ~] # cat /proc/pci # 查看pci设备的信息"
   ]
  },
  {
   "cell_type": "code",
   "execution_count": 7,
   "metadata": {
    "collapsed": false
   },
   "outputs": [
    {
     "name": "stdout",
     "output_type": "stream",
     "text": [
      "/bin/sh: 1: rpm: not found\r\n"
     ]
    }
   ],
   "source": [
    "# 查看所有安装的软件包\n",
    "!rpm -qa"
   ]
  },
  {
   "cell_type": "code",
   "execution_count": 5,
   "metadata": {
    "collapsed": false,
    "scrolled": true
   },
   "outputs": [
    {
     "name": "stdout",
     "output_type": "stream",
     "text": [
      "MemTotal:        8163412 kB\r\n",
      "MemFree:         3482132 kB\r\n",
      "MemAvailable:    4919960 kB\r\n",
      "Buffers:          109464 kB\r\n",
      "Cached:          2026312 kB\r\n",
      "SwapCached:            0 kB\r\n",
      "Active:          2750064 kB\r\n",
      "Inactive:        1356112 kB\r\n",
      "Active(anon):    1971980 kB\r\n",
      "Inactive(anon):   545456 kB\r\n",
      "Active(file):     778084 kB\r\n",
      "Inactive(file):   810656 kB\r\n",
      "Unevictable:         120 kB\r\n",
      "Mlocked:             120 kB\r\n",
      "SwapTotal:       8374268 kB\r\n",
      "SwapFree:        8374268 kB\r\n",
      "Dirty:               136 kB\r\n",
      "Writeback:             0 kB\r\n",
      "AnonPages:       1970536 kB\r\n",
      "Mapped:           966976 kB\r\n",
      "Shmem:            547040 kB\r\n",
      "Slab:             182720 kB\r\n",
      "SReclaimable:     137088 kB\r\n",
      "SUnreclaim:        45632 kB\r\n",
      "KernelStack:       10240 kB\r\n",
      "PageTables:        56280 kB\r\n",
      "NFS_Unstable:          0 kB\r\n",
      "Bounce:                0 kB\r\n",
      "WritebackTmp:          0 kB\r\n",
      "CommitLimit:    12455972 kB\r\n",
      "Committed_AS:    7053996 kB\r\n",
      "VmallocTotal:   34359738367 kB\r\n",
      "VmallocUsed:           0 kB\r\n",
      "VmallocChunk:          0 kB\r\n",
      "HardwareCorrupted:     0 kB\r\n",
      "AnonHugePages:   1013760 kB\r\n",
      "CmaTotal:              0 kB\r\n",
      "CmaFree:               0 kB\r\n",
      "HugePages_Total:       0\r\n",
      "HugePages_Free:        0\r\n",
      "HugePages_Rsvd:        0\r\n",
      "HugePages_Surp:        0\r\n",
      "Hugepagesize:       2048 kB\r\n",
      "DirectMap4k:      473388 kB\r\n",
      "DirectMap2M:     7903232 kB\r\n"
     ]
    }
   ],
   "source": [
    "# 查看linux系统内存信息的linux系统命令\n",
    "!cat /proc/meminfo"
   ]
  },
  {
   "cell_type": "code",
   "execution_count": 4,
   "metadata": {
    "collapsed": false
   },
   "outputs": [
    {
     "name": "stdout",
     "output_type": "stream",
     "text": [
      "cat: /proc/pci: No such file or directory\r\n"
     ]
    }
   ],
   "source": [
    "# 查看pci设备的信息\n",
    "!cat /proc/pci"
   ]
  },
  {
   "cell_type": "code",
   "execution_count": 2,
   "metadata": {
    "collapsed": false
   },
   "outputs": [
    {
     "name": "stdout",
     "output_type": "stream",
     "text": [
      "Filename\t\t\t\tType\t\tSize\tUsed\tPriority\r\n",
      "/dev/sda6                               partition\t8374268\t0\t-1\r\n"
     ]
    }
   ],
   "source": [
    "# 查看所有swap分区的信息\n",
    "!cat /proc/swaps"
   ]
  }
 ],
 "metadata": {
  "kernelspec": {
   "display_name": "Python 2",
   "language": "python",
   "name": "python2"
  },
  "language_info": {
   "codemirror_mode": {
    "name": "ipython",
    "version": 2
   },
   "file_extension": ".py",
   "mimetype": "text/x-python",
   "name": "python",
   "nbconvert_exporter": "python",
   "pygments_lexer": "ipython2",
   "version": "2.7.12"
  },
  "nav_menu": {},
  "toc": {
   "navigate_menu": true,
   "number_sections": true,
   "sideBar": true,
   "threshold": 6,
   "toc_cell": false,
   "toc_section_display": "block",
   "toc_window_display": false
  }
 },
 "nbformat": 4,
 "nbformat_minor": 0
}
