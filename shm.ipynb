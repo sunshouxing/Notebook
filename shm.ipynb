{
 "cells": [
  {
   "cell_type": "markdown",
   "metadata": {},
   "source": [
    "By default installation, RHEL and most Linux distributions mount tmpfs (a RAM-based temporarily filesystem) to /dev/shm directory and this temporarily filesystem size is always set to be half of the installed memory.\n",
    "\n",
    "\n",
    "If that default size is not something expected, you can increase or reduce the /dev/shm filesystem size at wish.\n",
    "\n",
    "\n",
    "To be even extreme, you may drop or disable this temporarily RAM-based filesystem entirely, to prevent it from auto-mount during system boots up, if none of the application in that Linux server relying on shared memory function or explicitly using tmpfs (as a quick-and-dirty trick to improve execution performance).\n",
    "\n",
    "### increase or decrease /dev/shm filesystem size\n",
    "\n",
    "1. Open /etc/fstab with vi or any text editor of your choice;\n",
    "\n",
    "2. Locate the line of /dev/shm and use the tmpfs size option to specify your expected size;\n",
    "\n",
    " ```\n",
    " # e.g. 512MB:\n",
    " tmpfs      /dev/shm      tmpfs   defaults,size=512m   0   0\n",
    "\n",
    " # e.g. 2GB:\n",
    " tmpfs      /dev/shm      tmpfs   defaults,size=2g   0   0\n",
    " ```\n",
    " The /etc/fstab content format is documented in man fstab and the tmpfs filesystem options can be found in man mount\n",
    "\n",
    "3. To make change effective immediately, run this mount command to remount the /dev/shm filesystem:\n",
    "```bash\n",
    "mount -o remount /dev/shm\n",
    "```\n",
    "\n",
    "### disable the /dev/shm or tmpfs filesystem\n",
    "Actually, Linux allocates the memory for this tmpfs on demand basis, up to the maximum size that shown in df -h command output. If none of the application is using the /dev/shm, this tmpfs in fact does not consume any memory space. So, why have to disable it?\n",
    "\n",
    "To disable /dev/shm immediately once only (but enable it on subsequent reboots), just execute the umount command:\n",
    "```bash\n",
    "umount /dev/shm\n",
    "```\n",
    "\n",
    "To prevent tmpfs from auto-mount each time the Linux boots up, just remark or delete that line from /etc/fstab."
   ]
  }
 ],
 "metadata": {
  "kernelspec": {
   "display_name": "Python 2",
   "language": "python",
   "name": "python2"
  },
  "language_info": {
   "codemirror_mode": {
    "name": "ipython",
    "version": 2
   },
   "file_extension": ".py",
   "mimetype": "text/x-python",
   "name": "python",
   "nbconvert_exporter": "python",
   "pygments_lexer": "ipython2",
   "version": "2.7.12"
  }
 },
 "nbformat": 4,
 "nbformat_minor": 0
}
